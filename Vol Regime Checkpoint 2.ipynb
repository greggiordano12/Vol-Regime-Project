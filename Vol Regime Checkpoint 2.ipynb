{
 "cells": [
  {
   "cell_type": "markdown",
   "metadata": {},
   "source": [
    "# Volatility Regime Prediction Checkpoint 2\n",
    "\n",
    "## Overview\n",
    "For the second part of our project, we focused on improving our volatilty regime prediction algorithm and implementing a portfolio trading strategy using the data from our regime prediction algorithm. The trading strategy considers a diverse portfolio of ETFs. When our regime prediction says we will be in a low-vol environment next week, then our strategy uses equal weighting to our portfolio; however, when the prediction for next week's volatility is high-vol, then the portfolio adjusts from equal weighting to min-vol weighting. To find the min-vol weighting we used the scipy.optimize package, and leveraged the sco.minimize function to find weights that minimize volatilty over the previous two weeks.\n",
    "\n",
    "With the random forest, our algorithm provides probabilities for a high-vol regime and low-vol regime for next week. Instead of investing all money into our high/low vol portfolios, we invest a percent based on the probability the random forest gives us that next week will either be high/low vol. In short, the random forest is known as the \"black box\" algorithm. It constructs multiple decision trees that output a classiefier prediction and randomizes each tree to protect against overfitting of the data. The result of all the individual trees becomes our random forest prediction. \n",
    "\n",
    "## Random Forest Demonstration\n",
    "We will be constructing our predictions with the data from the Vol_Data Class. This data is made up of data from the FRED database and ETF data. Our goal is to use relevant data from a variety of sources to use for our predictions.\n",
    "\n",
    "### FRED IDs with labels:\n",
    "#### - DCOILBRENTEU: European Brent Oil Prices\n",
    "#### - BAMLH0A0HYM2: US high yield index option-adjusted spread\n",
    "#### - GOLDAMGBD228NLBM: Gold fixing price in London Bullion\n",
    "#### - DAAA: Moody's corporate bond yield\n",
    "#### - RIFSPPFAAD01NB: Overnight commercial paper interest rate\n",
    "#### - BAMLHE00EHYIOAS: Euro high yield index option-adjusted spread\n",
    "#### - T10Y3M:10 year treasury bond minus 3 month treasury bond\n",
    "#### - BAMLEMFSFCRPITRIV:Emerging markets corporate bond yields\n",
    "#### - DEXCHUS: Daily China/US Exchange Rates\n",
    "#### - DEXUSEU: Daily US/EU Exchange Rates\n",
    "\n",
    "### Other data \n",
    "#### - GDX_Volume: Weekly Volume of the GDX etf, which tracks gold miners\n",
    "#### - SHY_Volume: Weekly Volume of the SHY etf, which is a 1-3 yr treasury bond fund\n",
    "#### - SPY_Volume: Weekly Volume of the SPY etf, representing the S&P500\n",
    "\n",
    "## Portfolio Class \n",
    "The Portfolio class that we created takes in start_date, end_date, tickers, and an object from our Regime_Predict class. Within the class, there is a weekly_optimization function that performs our trading strategy by investing proper amounts into our min_vol and equally weighted portfolios. The file also contains various portfolio functions such as functions to create returns matrices, calculate portfolio returns/vol, and the function that uses sco.minimize to find the minimum vol weights for a portfolio. \n",
    "\n",
    "## ETFs For Portfolio\n",
    "#### - PNQI: NASDAQ Internet ETF  \n",
    "#### - SPY: SPDR S&P 500 ETF Trust\n",
    "#### - SPXL: Direxion Daily S&P 500 Bull 3X\n",
    "#### - XLK: Technology Select Sector SPDR Fund\n",
    "#### - XLY: Consumer Discretionary SPDR\n",
    "#### - XLF: Financial Select Sector SPDR Fund\n",
    "#### - SHY: iShares Barclay 1-3 Year Treasury Bond Fund\n",
    "\n",
    "\n",
    "## Vol_Outputs Class\n",
    "Within our main.py file, we have a Vol_Outputs class that is meant to tie together all of our other classes to provide outputs. Vol_Outputs takes in start_date, end_date, tickers, and fred_strings. From here, in its constructor, the class creates Vol_Data, Regime_Predict, and Portfolio objects which we use to find outputs. \n",
    "\n",
    "The Vol_Outputs class currently contains compare_equal, compare_spy, and analyze_volatile_periods methods. Each of these methods is defined to show users how our strategy performs against various benchmarks.\n",
    "    1. compare_equal: compares how our strategy did against a strategy that equally weights our tickers the entire time\n",
    "    2. compare_spy: compares how our strategy did against the SPY\n",
    "    3. analyze_volatile_periods: Shows how our strategy performed during the market's most volatile periods compared to the equally weighted portfolio and the SPY "
   ]
  },
  {
   "cell_type": "code",
   "execution_count": 1,
   "metadata": {},
   "outputs": [
    {
     "name": "stderr",
     "output_type": "stream",
     "text": [
      "C:\\Users\\Vincent\\AppData\\Local\\Programs\\Python\\Python37-32\\lib\\site-packages\\pandas_datareader\\compat\\__init__.py:7: FutureWarning: pandas.util.testing is deprecated. Use the functions in the public API at pandas.testing instead.\n",
      "  from pandas.util.testing import assert_frame_equal\n"
     ]
    },
    {
     "name": "stdout",
     "output_type": "stream",
     "text": [
      "2919\n",
      "2922\n"
     ]
    }
   ],
   "source": [
    "import os\n",
    "from Code.Data.Inputs import volClass \n",
    "\n",
    "start_date = \"2008-01-01\"\n",
    "end_date=\"2020-06-20\"\n",
    "tickers = [\"PNQI\", \"SPY\",\"SPXL\", \"XLK\", \"XLY\", \"XLF\",\"SHY\"]\n",
    "fred_s=[\"DCOILBRENTEU\" ,\"BAMLH0A0HYM2\", \"GOLDAMGBD228NLBM\",\"DAAA\",\"RIFSPPFAAD01NB\",\"BAMLHE00EHYIOAS\", \"DEXCHUS\", \"DEXUSEU\", \"T10Y3M\", \"BAMLEMFSFCRPITRIV\"]\n",
    "trial_vol = volClass.Vol_Data(start_date, end_date, fred_strings = fred_s)"
   ]
  },
  {
   "cell_type": "code",
   "execution_count": 2,
   "metadata": {},
   "outputs": [],
   "source": [
    "from Code.Data import rfClass\n",
    "\n",
    "# Regime_Predict(Vol_Data object, test_size = .3, n_estimators= 10) we chose default test data size as .3 and n_estimators for random forest as 10\n",
    "trial_regime_prediction = rfClass.Regime_Predict(trial_vol)"
   ]
  },
  {
   "cell_type": "code",
   "execution_count": 3,
   "metadata": {},
   "outputs": [
    {
     "data": {
      "text/html": [
       "<div>\n",
       "<style scoped>\n",
       "    .dataframe tbody tr th:only-of-type {\n",
       "        vertical-align: middle;\n",
       "    }\n",
       "\n",
       "    .dataframe tbody tr th {\n",
       "        vertical-align: top;\n",
       "    }\n",
       "\n",
       "    .dataframe thead th {\n",
       "        text-align: right;\n",
       "    }\n",
       "</style>\n",
       "<table border=\"1\" class=\"dataframe\">\n",
       "  <thead>\n",
       "    <tr style=\"text-align: right;\">\n",
       "      <th></th>\n",
       "      <th>DCOILBRENTEU</th>\n",
       "      <th>BAMLH0A0HYM2</th>\n",
       "      <th>GOLDAMGBD228NLBM</th>\n",
       "      <th>DAAA</th>\n",
       "      <th>RIFSPPFAAD01NB</th>\n",
       "      <th>BAMLHE00EHYIOAS</th>\n",
       "      <th>DEXCHUS</th>\n",
       "      <th>DEXUSEU</th>\n",
       "      <th>T10Y3M</th>\n",
       "      <th>BAMLEMFSFCRPITRIV</th>\n",
       "      <th>SPY_Volume</th>\n",
       "      <th>SHY_Volume</th>\n",
       "      <th>GDX_Volume</th>\n",
       "    </tr>\n",
       "  </thead>\n",
       "  <tbody>\n",
       "    <tr>\n",
       "      <th>DCOILBRENTEU</th>\n",
       "      <td>1.000000</td>\n",
       "      <td>-0.185451</td>\n",
       "      <td>0.295570</td>\n",
       "      <td>0.329633</td>\n",
       "      <td>-0.096654</td>\n",
       "      <td>-0.053281</td>\n",
       "      <td>-0.422428</td>\n",
       "      <td>0.720567</td>\n",
       "      <td>0.351440</td>\n",
       "      <td>-0.371904</td>\n",
       "      <td>0.118888</td>\n",
       "      <td>-0.259546</td>\n",
       "      <td>-0.569171</td>\n",
       "    </tr>\n",
       "    <tr>\n",
       "      <th>BAMLH0A0HYM2</th>\n",
       "      <td>-0.185451</td>\n",
       "      <td>1.000000</td>\n",
       "      <td>-0.442276</td>\n",
       "      <td>0.522395</td>\n",
       "      <td>-0.192980</td>\n",
       "      <td>0.969430</td>\n",
       "      <td>0.272005</td>\n",
       "      <td>0.302653</td>\n",
       "      <td>0.365306</td>\n",
       "      <td>-0.731025</td>\n",
       "      <td>0.739510</td>\n",
       "      <td>-0.037067</td>\n",
       "      <td>-0.353128</td>\n",
       "    </tr>\n",
       "    <tr>\n",
       "      <th>GOLDAMGBD228NLBM</th>\n",
       "      <td>0.295570</td>\n",
       "      <td>-0.442276</td>\n",
       "      <td>1.000000</td>\n",
       "      <td>-0.652199</td>\n",
       "      <td>-0.236732</td>\n",
       "      <td>-0.367496</td>\n",
       "      <td>-0.330019</td>\n",
       "      <td>-0.189624</td>\n",
       "      <td>-0.346524</td>\n",
       "      <td>0.445012</td>\n",
       "      <td>-0.325519</td>\n",
       "      <td>0.157479</td>\n",
       "      <td>0.070483</td>\n",
       "    </tr>\n",
       "    <tr>\n",
       "      <th>DAAA</th>\n",
       "      <td>0.329633</td>\n",
       "      <td>0.522395</td>\n",
       "      <td>-0.652199</td>\n",
       "      <td>1.000000</td>\n",
       "      <td>-0.036770</td>\n",
       "      <td>0.554666</td>\n",
       "      <td>0.146260</td>\n",
       "      <td>0.745644</td>\n",
       "      <td>0.767593</td>\n",
       "      <td>-0.859868</td>\n",
       "      <td>0.621102</td>\n",
       "      <td>-0.290504</td>\n",
       "      <td>-0.578587</td>\n",
       "    </tr>\n",
       "    <tr>\n",
       "      <th>RIFSPPFAAD01NB</th>\n",
       "      <td>-0.096654</td>\n",
       "      <td>-0.192980</td>\n",
       "      <td>-0.236732</td>\n",
       "      <td>-0.036770</td>\n",
       "      <td>1.000000</td>\n",
       "      <td>-0.212543</td>\n",
       "      <td>0.560878</td>\n",
       "      <td>-0.106751</td>\n",
       "      <td>-0.621332</td>\n",
       "      <td>0.276571</td>\n",
       "      <td>-0.101259</td>\n",
       "      <td>0.152499</td>\n",
       "      <td>0.086715</td>\n",
       "    </tr>\n",
       "    <tr>\n",
       "      <th>BAMLHE00EHYIOAS</th>\n",
       "      <td>-0.053281</td>\n",
       "      <td>0.969430</td>\n",
       "      <td>-0.367496</td>\n",
       "      <td>0.554666</td>\n",
       "      <td>-0.212543</td>\n",
       "      <td>1.000000</td>\n",
       "      <td>0.231359</td>\n",
       "      <td>0.372743</td>\n",
       "      <td>0.406048</td>\n",
       "      <td>-0.777788</td>\n",
       "      <td>0.729127</td>\n",
       "      <td>-0.083503</td>\n",
       "      <td>-0.464165</td>\n",
       "    </tr>\n",
       "    <tr>\n",
       "      <th>DEXCHUS</th>\n",
       "      <td>-0.422428</td>\n",
       "      <td>0.272005</td>\n",
       "      <td>-0.330019</td>\n",
       "      <td>0.146260</td>\n",
       "      <td>0.560878</td>\n",
       "      <td>0.231359</td>\n",
       "      <td>1.000000</td>\n",
       "      <td>-0.081517</td>\n",
       "      <td>-0.263825</td>\n",
       "      <td>-0.036627</td>\n",
       "      <td>0.182892</td>\n",
       "      <td>0.132230</td>\n",
       "      <td>-0.001029</td>\n",
       "    </tr>\n",
       "    <tr>\n",
       "      <th>DEXUSEU</th>\n",
       "      <td>0.720567</td>\n",
       "      <td>0.302653</td>\n",
       "      <td>-0.189624</td>\n",
       "      <td>0.745644</td>\n",
       "      <td>-0.106751</td>\n",
       "      <td>0.372743</td>\n",
       "      <td>-0.081517</td>\n",
       "      <td>1.000000</td>\n",
       "      <td>0.645306</td>\n",
       "      <td>-0.778872</td>\n",
       "      <td>0.477632</td>\n",
       "      <td>-0.309178</td>\n",
       "      <td>-0.724965</td>\n",
       "    </tr>\n",
       "    <tr>\n",
       "      <th>T10Y3M</th>\n",
       "      <td>0.351440</td>\n",
       "      <td>0.365306</td>\n",
       "      <td>-0.346524</td>\n",
       "      <td>0.767593</td>\n",
       "      <td>-0.621332</td>\n",
       "      <td>0.406048</td>\n",
       "      <td>-0.263825</td>\n",
       "      <td>0.645306</td>\n",
       "      <td>1.000000</td>\n",
       "      <td>-0.766219</td>\n",
       "      <td>0.453501</td>\n",
       "      <td>-0.347275</td>\n",
       "      <td>-0.480461</td>\n",
       "    </tr>\n",
       "    <tr>\n",
       "      <th>BAMLEMFSFCRPITRIV</th>\n",
       "      <td>-0.371904</td>\n",
       "      <td>-0.731025</td>\n",
       "      <td>0.445012</td>\n",
       "      <td>-0.859868</td>\n",
       "      <td>0.276571</td>\n",
       "      <td>-0.777788</td>\n",
       "      <td>-0.036627</td>\n",
       "      <td>-0.778872</td>\n",
       "      <td>-0.766219</td>\n",
       "      <td>1.000000</td>\n",
       "      <td>-0.731068</td>\n",
       "      <td>0.329085</td>\n",
       "      <td>0.694588</td>\n",
       "    </tr>\n",
       "    <tr>\n",
       "      <th>SPY_Volume</th>\n",
       "      <td>0.118888</td>\n",
       "      <td>0.739510</td>\n",
       "      <td>-0.325519</td>\n",
       "      <td>0.621102</td>\n",
       "      <td>-0.101259</td>\n",
       "      <td>0.729127</td>\n",
       "      <td>0.182892</td>\n",
       "      <td>0.477632</td>\n",
       "      <td>0.453501</td>\n",
       "      <td>-0.731068</td>\n",
       "      <td>1.000000</td>\n",
       "      <td>0.041208</td>\n",
       "      <td>-0.423441</td>\n",
       "    </tr>\n",
       "    <tr>\n",
       "      <th>SHY_Volume</th>\n",
       "      <td>-0.259546</td>\n",
       "      <td>-0.037067</td>\n",
       "      <td>0.157479</td>\n",
       "      <td>-0.290504</td>\n",
       "      <td>0.152499</td>\n",
       "      <td>-0.083503</td>\n",
       "      <td>0.132230</td>\n",
       "      <td>-0.309178</td>\n",
       "      <td>-0.347275</td>\n",
       "      <td>0.329085</td>\n",
       "      <td>0.041208</td>\n",
       "      <td>1.000000</td>\n",
       "      <td>0.332531</td>\n",
       "    </tr>\n",
       "    <tr>\n",
       "      <th>GDX_Volume</th>\n",
       "      <td>-0.569171</td>\n",
       "      <td>-0.353128</td>\n",
       "      <td>0.070483</td>\n",
       "      <td>-0.578587</td>\n",
       "      <td>0.086715</td>\n",
       "      <td>-0.464165</td>\n",
       "      <td>-0.001029</td>\n",
       "      <td>-0.724965</td>\n",
       "      <td>-0.480461</td>\n",
       "      <td>0.694588</td>\n",
       "      <td>-0.423441</td>\n",
       "      <td>0.332531</td>\n",
       "      <td>1.000000</td>\n",
       "    </tr>\n",
       "  </tbody>\n",
       "</table>\n",
       "</div>"
      ],
      "text/plain": [
       "                   DCOILBRENTEU  BAMLH0A0HYM2  GOLDAMGBD228NLBM      DAAA  \\\n",
       "DCOILBRENTEU           1.000000     -0.185451          0.295570  0.329633   \n",
       "BAMLH0A0HYM2          -0.185451      1.000000         -0.442276  0.522395   \n",
       "GOLDAMGBD228NLBM       0.295570     -0.442276          1.000000 -0.652199   \n",
       "DAAA                   0.329633      0.522395         -0.652199  1.000000   \n",
       "RIFSPPFAAD01NB        -0.096654     -0.192980         -0.236732 -0.036770   \n",
       "BAMLHE00EHYIOAS       -0.053281      0.969430         -0.367496  0.554666   \n",
       "DEXCHUS               -0.422428      0.272005         -0.330019  0.146260   \n",
       "DEXUSEU                0.720567      0.302653         -0.189624  0.745644   \n",
       "T10Y3M                 0.351440      0.365306         -0.346524  0.767593   \n",
       "BAMLEMFSFCRPITRIV     -0.371904     -0.731025          0.445012 -0.859868   \n",
       "SPY_Volume             0.118888      0.739510         -0.325519  0.621102   \n",
       "SHY_Volume            -0.259546     -0.037067          0.157479 -0.290504   \n",
       "GDX_Volume            -0.569171     -0.353128          0.070483 -0.578587   \n",
       "\n",
       "                   RIFSPPFAAD01NB  BAMLHE00EHYIOAS   DEXCHUS   DEXUSEU  \\\n",
       "DCOILBRENTEU            -0.096654        -0.053281 -0.422428  0.720567   \n",
       "BAMLH0A0HYM2            -0.192980         0.969430  0.272005  0.302653   \n",
       "GOLDAMGBD228NLBM        -0.236732        -0.367496 -0.330019 -0.189624   \n",
       "DAAA                    -0.036770         0.554666  0.146260  0.745644   \n",
       "RIFSPPFAAD01NB           1.000000        -0.212543  0.560878 -0.106751   \n",
       "BAMLHE00EHYIOAS         -0.212543         1.000000  0.231359  0.372743   \n",
       "DEXCHUS                  0.560878         0.231359  1.000000 -0.081517   \n",
       "DEXUSEU                 -0.106751         0.372743 -0.081517  1.000000   \n",
       "T10Y3M                  -0.621332         0.406048 -0.263825  0.645306   \n",
       "BAMLEMFSFCRPITRIV        0.276571        -0.777788 -0.036627 -0.778872   \n",
       "SPY_Volume              -0.101259         0.729127  0.182892  0.477632   \n",
       "SHY_Volume               0.152499        -0.083503  0.132230 -0.309178   \n",
       "GDX_Volume               0.086715        -0.464165 -0.001029 -0.724965   \n",
       "\n",
       "                     T10Y3M  BAMLEMFSFCRPITRIV  SPY_Volume  SHY_Volume  \\\n",
       "DCOILBRENTEU       0.351440          -0.371904    0.118888   -0.259546   \n",
       "BAMLH0A0HYM2       0.365306          -0.731025    0.739510   -0.037067   \n",
       "GOLDAMGBD228NLBM  -0.346524           0.445012   -0.325519    0.157479   \n",
       "DAAA               0.767593          -0.859868    0.621102   -0.290504   \n",
       "RIFSPPFAAD01NB    -0.621332           0.276571   -0.101259    0.152499   \n",
       "BAMLHE00EHYIOAS    0.406048          -0.777788    0.729127   -0.083503   \n",
       "DEXCHUS           -0.263825          -0.036627    0.182892    0.132230   \n",
       "DEXUSEU            0.645306          -0.778872    0.477632   -0.309178   \n",
       "T10Y3M             1.000000          -0.766219    0.453501   -0.347275   \n",
       "BAMLEMFSFCRPITRIV -0.766219           1.000000   -0.731068    0.329085   \n",
       "SPY_Volume         0.453501          -0.731068    1.000000    0.041208   \n",
       "SHY_Volume        -0.347275           0.329085    0.041208    1.000000   \n",
       "GDX_Volume        -0.480461           0.694588   -0.423441    0.332531   \n",
       "\n",
       "                   GDX_Volume  \n",
       "DCOILBRENTEU        -0.569171  \n",
       "BAMLH0A0HYM2        -0.353128  \n",
       "GOLDAMGBD228NLBM     0.070483  \n",
       "DAAA                -0.578587  \n",
       "RIFSPPFAAD01NB       0.086715  \n",
       "BAMLHE00EHYIOAS     -0.464165  \n",
       "DEXCHUS             -0.001029  \n",
       "DEXUSEU             -0.724965  \n",
       "T10Y3M              -0.480461  \n",
       "BAMLEMFSFCRPITRIV    0.694588  \n",
       "SPY_Volume          -0.423441  \n",
       "SHY_Volume           0.332531  \n",
       "GDX_Volume           1.000000  "
      ]
     },
     "execution_count": 3,
     "metadata": {},
     "output_type": "execute_result"
    }
   ],
   "source": [
    "trial_regime_prediction.corr"
   ]
  },
  {
   "cell_type": "markdown",
   "metadata": {},
   "source": [
    "#### The code above is the correlation matrix between all our variables. Below are the actualy probabilites between the regimes and then the finalized predictions. "
   ]
  },
  {
   "cell_type": "code",
   "execution_count": 4,
   "metadata": {},
   "outputs": [
    {
     "data": {
      "text/html": [
       "<div>\n",
       "<style scoped>\n",
       "    .dataframe tbody tr th:only-of-type {\n",
       "        vertical-align: middle;\n",
       "    }\n",
       "\n",
       "    .dataframe tbody tr th {\n",
       "        vertical-align: top;\n",
       "    }\n",
       "\n",
       "    .dataframe thead th {\n",
       "        text-align: right;\n",
       "    }\n",
       "</style>\n",
       "<table border=\"1\" class=\"dataframe\">\n",
       "  <thead>\n",
       "    <tr style=\"text-align: right;\">\n",
       "      <th></th>\n",
       "      <th>Low_Vol</th>\n",
       "      <th>Med_Vol</th>\n",
       "      <th>High_Vol</th>\n",
       "    </tr>\n",
       "    <tr>\n",
       "      <th>Week</th>\n",
       "      <th></th>\n",
       "      <th></th>\n",
       "      <th></th>\n",
       "    </tr>\n",
       "  </thead>\n",
       "  <tbody>\n",
       "    <tr>\n",
       "      <th>2008-01-07</th>\n",
       "      <td>0.40</td>\n",
       "      <td>0.60</td>\n",
       "      <td>0.00</td>\n",
       "    </tr>\n",
       "    <tr>\n",
       "      <th>2008-01-14</th>\n",
       "      <td>0.06</td>\n",
       "      <td>0.91</td>\n",
       "      <td>0.03</td>\n",
       "    </tr>\n",
       "    <tr>\n",
       "      <th>2008-01-22</th>\n",
       "      <td>0.07</td>\n",
       "      <td>0.87</td>\n",
       "      <td>0.06</td>\n",
       "    </tr>\n",
       "    <tr>\n",
       "      <th>2008-01-28</th>\n",
       "      <td>0.03</td>\n",
       "      <td>0.79</td>\n",
       "      <td>0.18</td>\n",
       "    </tr>\n",
       "    <tr>\n",
       "      <th>2008-02-04</th>\n",
       "      <td>0.06</td>\n",
       "      <td>0.94</td>\n",
       "      <td>0.00</td>\n",
       "    </tr>\n",
       "    <tr>\n",
       "      <th>...</th>\n",
       "      <td>...</td>\n",
       "      <td>...</td>\n",
       "      <td>...</td>\n",
       "    </tr>\n",
       "    <tr>\n",
       "      <th>2020-05-18</th>\n",
       "      <td>0.09</td>\n",
       "      <td>0.54</td>\n",
       "      <td>0.37</td>\n",
       "    </tr>\n",
       "    <tr>\n",
       "      <th>2020-05-26</th>\n",
       "      <td>0.13</td>\n",
       "      <td>0.66</td>\n",
       "      <td>0.21</td>\n",
       "    </tr>\n",
       "    <tr>\n",
       "      <th>2020-06-01</th>\n",
       "      <td>0.21</td>\n",
       "      <td>0.28</td>\n",
       "      <td>0.51</td>\n",
       "    </tr>\n",
       "    <tr>\n",
       "      <th>2020-06-08</th>\n",
       "      <td>0.26</td>\n",
       "      <td>0.10</td>\n",
       "      <td>0.64</td>\n",
       "    </tr>\n",
       "    <tr>\n",
       "      <th>2020-06-15</th>\n",
       "      <td>0.22</td>\n",
       "      <td>0.28</td>\n",
       "      <td>0.50</td>\n",
       "    </tr>\n",
       "  </tbody>\n",
       "</table>\n",
       "<p>650 rows × 3 columns</p>\n",
       "</div>"
      ],
      "text/plain": [
       "            Low_Vol  Med_Vol  High_Vol\n",
       "Week                                  \n",
       "2008-01-07     0.40     0.60      0.00\n",
       "2008-01-14     0.06     0.91      0.03\n",
       "2008-01-22     0.07     0.87      0.06\n",
       "2008-01-28     0.03     0.79      0.18\n",
       "2008-02-04     0.06     0.94      0.00\n",
       "...             ...      ...       ...\n",
       "2020-05-18     0.09     0.54      0.37\n",
       "2020-05-26     0.13     0.66      0.21\n",
       "2020-06-01     0.21     0.28      0.51\n",
       "2020-06-08     0.26     0.10      0.64\n",
       "2020-06-15     0.22     0.28      0.50\n",
       "\n",
       "[650 rows x 3 columns]"
      ]
     },
     "execution_count": 4,
     "metadata": {},
     "output_type": "execute_result"
    }
   ],
   "source": [
    "trial_regime_prediction.all_prob"
   ]
  },
  {
   "cell_type": "code",
   "execution_count": 5,
   "metadata": {},
   "outputs": [
    {
     "data": {
      "text/html": [
       "<div>\n",
       "<style scoped>\n",
       "    .dataframe tbody tr th:only-of-type {\n",
       "        vertical-align: middle;\n",
       "    }\n",
       "\n",
       "    .dataframe tbody tr th {\n",
       "        vertical-align: top;\n",
       "    }\n",
       "\n",
       "    .dataframe thead th {\n",
       "        text-align: right;\n",
       "    }\n",
       "</style>\n",
       "<table border=\"1\" class=\"dataframe\">\n",
       "  <thead>\n",
       "    <tr style=\"text-align: right;\">\n",
       "      <th></th>\n",
       "      <th>Vol_Regime</th>\n",
       "    </tr>\n",
       "    <tr>\n",
       "      <th>Week</th>\n",
       "      <th></th>\n",
       "    </tr>\n",
       "  </thead>\n",
       "  <tbody>\n",
       "    <tr>\n",
       "      <th>2008-01-07</th>\n",
       "      <td>0</td>\n",
       "    </tr>\n",
       "    <tr>\n",
       "      <th>2008-01-14</th>\n",
       "      <td>0</td>\n",
       "    </tr>\n",
       "    <tr>\n",
       "      <th>2008-01-22</th>\n",
       "      <td>0</td>\n",
       "    </tr>\n",
       "    <tr>\n",
       "      <th>2008-01-28</th>\n",
       "      <td>0</td>\n",
       "    </tr>\n",
       "    <tr>\n",
       "      <th>2008-02-04</th>\n",
       "      <td>0</td>\n",
       "    </tr>\n",
       "    <tr>\n",
       "      <th>...</th>\n",
       "      <td>...</td>\n",
       "    </tr>\n",
       "    <tr>\n",
       "      <th>2020-05-18</th>\n",
       "      <td>0</td>\n",
       "    </tr>\n",
       "    <tr>\n",
       "      <th>2020-05-26</th>\n",
       "      <td>0</td>\n",
       "    </tr>\n",
       "    <tr>\n",
       "      <th>2020-06-01</th>\n",
       "      <td>1</td>\n",
       "    </tr>\n",
       "    <tr>\n",
       "      <th>2020-06-08</th>\n",
       "      <td>1</td>\n",
       "    </tr>\n",
       "    <tr>\n",
       "      <th>2020-06-15</th>\n",
       "      <td>1</td>\n",
       "    </tr>\n",
       "  </tbody>\n",
       "</table>\n",
       "<p>650 rows × 1 columns</p>\n",
       "</div>"
      ],
      "text/plain": [
       "            Vol_Regime\n",
       "Week                  \n",
       "2008-01-07           0\n",
       "2008-01-14           0\n",
       "2008-01-22           0\n",
       "2008-01-28           0\n",
       "2008-02-04           0\n",
       "...                ...\n",
       "2020-05-18           0\n",
       "2020-05-26           0\n",
       "2020-06-01           1\n",
       "2020-06-08           1\n",
       "2020-06-15           1\n",
       "\n",
       "[650 rows x 1 columns]"
      ]
     },
     "execution_count": 5,
     "metadata": {},
     "output_type": "execute_result"
    }
   ],
   "source": [
    "trial_regime_prediction.all_predictions_df"
   ]
  },
  {
   "cell_type": "markdown",
   "metadata": {},
   "source": [
    "#### Now we will search through hundreds of forests to find the best input parameters for our random forest."
   ]
  },
  {
   "cell_type": "code",
   "execution_count": 11,
   "metadata": {},
   "outputs": [
    {
     "name": "stdout",
     "output_type": "stream",
     "text": [
      "Fitting 3 folds for each of 100 candidates, totalling 300 fits\n"
     ]
    },
    {
     "name": "stderr",
     "output_type": "stream",
     "text": [
      "[Parallel(n_jobs=-1)]: Using backend LokyBackend with 4 concurrent workers.\n",
      "[Parallel(n_jobs=-1)]: Done  33 tasks      | elapsed:   34.8s\n",
      "[Parallel(n_jobs=-1)]: Done 154 tasks      | elapsed:  2.7min\n",
      "[Parallel(n_jobs=-1)]: Done 300 out of 300 | elapsed:  5.2min finished\n"
     ]
    },
    {
     "name": "stdout",
     "output_type": "stream",
     "text": [
      "{'n_estimators': 1600, 'max_features': 'auto', 'max_depth': None}\n"
     ]
    }
   ],
   "source": [
    "trial_regime_prediction.best_params()"
   ]
  },
  {
   "cell_type": "code",
   "execution_count": 13,
   "metadata": {},
   "outputs": [],
   "source": [
    "estimators = 1600\n",
    "features = 'auto'\n",
    "depth = None\n",
    "optimal_regime_prediction = rfClass.Regime_Predict(trial_vol, n_estimators = estimators, max_features = features, max_depth = depth)"
   ]
  },
  {
   "cell_type": "markdown",
   "metadata": {},
   "source": [
    "#### Now we will look at the feature importance of the variables we used in our trial_regime_prediction. "
   ]
  },
  {
   "cell_type": "code",
   "execution_count": 14,
   "metadata": {},
   "outputs": [
    {
     "data": {
      "image/png": "[encoded data removed]",
      "text/plain": [
       "<Figure size 468x324 with 1 Axes>"
      ]
     },
     "metadata": {
      "needs_background": "light"
     },
     "output_type": "display_data"
    },
    {
     "data": {
      "text/plain": [
       "<Figure size 360x360 with 0 Axes>"
      ]
     },
     "metadata": {},
     "output_type": "display_data"
    },
    {
     "name": "stdout",
     "output_type": "stream",
     "text": [
      "Feature ranking:\n",
      "1. feature 10 (0.190845)\n",
      "2. feature 1 (0.174082)\n",
      "3. feature 9 (0.146494)\n",
      "4. feature 5 (0.110784)\n",
      "5. feature 12 (0.058137)\n",
      "6. feature 2 (0.051372)\n",
      "7. feature 3 (0.045232)\n",
      "8. feature 11 (0.041961)\n",
      "9. feature 6 (0.041246)\n",
      "10. feature 0 (0.040739)\n",
      "11. feature 7 (0.039507)\n",
      "12. feature 4 (0.030330)\n",
      "13. feature 8 (0.029270)\n"
     ]
    },
    {
     "data": {
      "image/png": "[encoded data removed]",
      "text/plain": [
       "<Figure size 432x288 with 1 Axes>"
      ]
     },
     "metadata": {
      "needs_background": "light"
     },
     "output_type": "display_data"
    }
   ],
   "source": [
    "trial_regime_prediction.plot_feature_importances()\n",
    "\n",
    "trial_regime_prediction.plot_feature_rankings()"
   ]
  },
  {
   "cell_type": "markdown",
   "metadata": {},
   "source": [
    "#### For comparison, here are the feature importances from our optimal forest parameters. "
   ]
  },
  {
   "cell_type": "code",
   "execution_count": 15,
   "metadata": {},
   "outputs": [
    {
     "data": {
      "image/png": "[encoded data removed]",
      "text/plain": [
       "<Figure size 468x324 with 1 Axes>"
      ]
     },
     "metadata": {
      "needs_background": "light"
     },
     "output_type": "display_data"
    },
    {
     "data": {
      "text/plain": [
       "<Figure size 360x360 with 0 Axes>"
      ]
     },
     "metadata": {},
     "output_type": "display_data"
    },
    {
     "name": "stdout",
     "output_type": "stream",
     "text": [
      "Feature ranking:\n",
      "1. feature 10 (0.202755)\n",
      "2. feature 1 (0.146590)\n",
      "3. feature 9 (0.131816)\n",
      "4. feature 5 (0.095426)\n",
      "5. feature 3 (0.071056)\n",
      "6. feature 2 (0.068311)\n",
      "7. feature 12 (0.049602)\n",
      "8. feature 0 (0.046935)\n",
      "9. feature 6 (0.046536)\n",
      "10. feature 7 (0.042974)\n",
      "11. feature 11 (0.037694)\n",
      "12. feature 4 (0.030717)\n",
      "13. feature 8 (0.029588)\n"
     ]
    },
    {
     "data": {
      "image/png": "[encoded data removed]",
      "text/plain": [
       "<Figure size 432x288 with 1 Axes>"
      ]
     },
     "metadata": {
      "needs_background": "light"
     },
     "output_type": "display_data"
    }
   ],
   "source": [
    "optimal_regime_prediction.plot_feature_importances()\n",
    "\n",
    "optimal_regime_prediction.plot_feature_rankings()"
   ]
  },
  {
   "cell_type": "markdown",
   "metadata": {},
   "source": [
    "### Classification Report\n",
    "\n",
    "Precision: TP / TP + FP -- Out of all the positive classes we have predicted correctly, how many are positive. \n",
    "\n",
    "Recall: TP / TP + FN -- Out of all positive classes, how much we have predicted correctly. \n",
    "\n",
    "f1-score: Weighted average between precision and recall scores\n",
    "\n",
    "Support: Number of occurences of each label in the true data set. \n",
    "\n",
    "Macro and weighted avg look at the data holistically, and then makes the same calculations - weighted is similar to macro, but accounts for label imbalance, by taking the weighted mean of the metrics for each data label, where macro takes an unweighted mean. \n",
    "\n",
    "\n",
    "### Confusion Matrix\n",
    "This visualizes the classification report, showing which were correctly predicted, as well as the False Positives and False Negatives."
   ]
  },
  {
   "cell_type": "code",
   "execution_count": 7,
   "metadata": {},
   "outputs": [
    {
     "name": "stdout",
     "output_type": "stream",
     "text": [
      "              precision    recall  f1-score   support\n",
      "\n",
      "          -1       0.87      0.98      0.92       127\n",
      "           0       0.68      0.58      0.63        45\n",
      "           1       0.93      0.57      0.70        23\n",
      "\n",
      "    accuracy                           0.84       195\n",
      "   macro avg       0.83      0.71      0.75       195\n",
      "weighted avg       0.83      0.84      0.83       195\n",
      "\n",
      "Confusion Matrix: \n"
     ]
    },
    {
     "data": {
      "image/png": "[encoded data removed]",
      "text/plain": [
       "<Figure size 432x288 with 2 Axes>"
      ]
     },
     "metadata": {
      "needs_background": "light"
     },
     "output_type": "display_data"
    }
   ],
   "source": [
    "trial_regime_prediction.classification_report()\n",
    "trial_regime_prediction.confusion_matrix()"
   ]
  },
  {
   "cell_type": "markdown",
   "metadata": {},
   "source": [
    "#### For comparison, let us view the Confusion Matrix and Classification Report from our optimized forest parameters."
   ]
  },
  {
   "cell_type": "code",
   "execution_count": 16,
   "metadata": {},
   "outputs": [
    {
     "name": "stdout",
     "output_type": "stream",
     "text": [
      "              precision    recall  f1-score   support\n",
      "\n",
      "          -1       0.88      0.93      0.91       124\n",
      "           0       0.76      0.63      0.69        51\n",
      "           1       0.83      0.95      0.88        20\n",
      "\n",
      "    accuracy                           0.85       195\n",
      "   macro avg       0.82      0.83      0.83       195\n",
      "weighted avg       0.85      0.85      0.85       195\n",
      "\n",
      "Confusion Matrix: \n"
     ]
    },
    {
     "data": {
      "image/png": "[encoded data removed]",
      "text/plain": [
       "<Figure size 432x288 with 2 Axes>"
      ]
     },
     "metadata": {
      "needs_background": "light"
     },
     "output_type": "display_data"
    }
   ],
   "source": [
    "optimal_regime_prediction.classification_report()\n",
    "optimal_regime_prediction.confusion_matrix()"
   ]
  },
  {
   "cell_type": "code",
   "execution_count": 17,
   "metadata": {},
   "outputs": [
    {
     "name": "stdout",
     "output_type": "stream",
     "text": [
      "2919\n",
      "2922\n"
     ]
    }
   ],
   "source": [
    "from Code.main.main import Vol_Outputs\n",
    "\n",
    "n_estimators = 1600\n",
    "max_features = 'auto'\n",
    "max_depth = None\n",
    "v_trial = Vol_Outputs(start_date, end_date, tickers, fred_s, n_estimators, max_features, max_depth)"
   ]
  },
  {
   "cell_type": "markdown",
   "metadata": {},
   "source": [
    "#### The code above creates a Vol_Outputs object called v_trial. From v_trial, we can generate the outputs that we want."
   ]
  },
  {
   "cell_type": "code",
   "execution_count": 18,
   "metadata": {},
   "outputs": [
    {
     "name": "stdout",
     "output_type": "stream",
     "text": [
      "                 Optimized_Port  Equal_Weight\n",
      "Metric (Annual)                              \n",
      "Return                 0.135361      0.125920\n",
      "Volatiltiy             0.120205      0.234504\n",
      "\n",
      "\n",
      "                  Optimized_Port       SPY\n",
      "Metric (Annual)                          \n",
      "Return                 0.135361  0.100477\n",
      "Volatiltiy             0.120205  0.194535\n",
      "\n",
      "\n",
      "                                  Optimized_Port  Equal_Weight_Port       SPY\n",
      "Metrics 2009-01-26 - 2009-03-26                                             \n",
      "Return                                 0.511367           0.255883  0.000000\n",
      "Volatilty                              0.111349           0.506826  0.417252\n",
      "VaR                                   -0.183152          -0.833654 -0.686319\n",
      "\n",
      "\n",
      "                                  Optimized_Port  Equal_Weight_Port       SPY\n",
      "Metrics 2010-05-26 - 2010-07-26                                             \n",
      "Return                                 0.040054           0.208752  0.204596\n",
      "Volatilty                              0.038700           0.293115  0.245622\n",
      "VaR                                   -0.063656          -0.482130 -0.404013\n",
      "\n",
      "\n",
      "                                  Optimized_Port  Equal_Weight_Port       SPY\n",
      "Metrics 2011-07-26 - 2011-09-26                                             \n",
      "Return                                -0.160906          -1.020385 -0.807049\n",
      "Volatilty                              0.064492           0.458431  0.375507\n",
      "VaR                                   -0.106080          -0.754053 -0.617654\n",
      "\n",
      "\n",
      "                                  Optimized_Port  Equal_Weight_Port       SPY\n",
      "Metrics 2018-01-29 - 2018-03-29                                             \n",
      "Return                                -0.408958          -0.510713 -0.499860\n",
      "Volatilty                              0.177598           0.274245  0.228731\n",
      "VaR                                   -0.292123          -0.451094 -0.376229\n",
      "\n",
      "\n",
      "                                  Optimized_Port  Equal_Weight_Port       SPY\n",
      "Metrics 2018-09-27 - 2018-12-27                                             \n",
      "Return                                -0.213986          -0.806516 -0.623024\n",
      "Volatilty                              0.133910           0.293703  0.236198\n",
      "VaR                                   -0.220263          -0.483099 -0.388511\n",
      "\n",
      "\n",
      "                                  Optimized_Port  Equal_Weight_Port       SPY\n",
      "Metrics 2020-02-15 - 2020-04-15                                             \n",
      "Return                                -0.172206          -1.641804 -1.199178\n",
      "Volatilty                              0.114393           0.839666  0.712873\n",
      "VaR                                   -0.188160          -1.381127 -1.172572\n"
     ]
    }
   ],
   "source": [
    "print(v_trial.compare_equal())\n",
    "print(\"\\n\\n\",v_trial.compare_spy())\n",
    "x= v_trial.analyze_volatile_periods()\n",
    "for i in x.keys():\n",
    "    print(\"\\n\\n\", x[i])"
   ]
  },
  {
   "cell_type": "markdown",
   "metadata": {},
   "source": [
    "As can be seen from the above outputs, the optimized portfolio tends to outperform on both an annual basis and when broken down into the highest volatility regimes. "
   ]
  }
 ],
 "metadata": {
  "kernelspec": {
   "display_name": "Python 3",
   "language": "python",
   "name": "python3"
  },
  "language_info": {
   "codemirror_mode": {
    "name": "ipython",
    "version": 3
   },
   "file_extension": ".py",
   "mimetype": "text/x-python",
   "name": "python",
   "nbconvert_exporter": "python",
   "pygments_lexer": "ipython3",
   "version": "3.7.4"
  }
 },
 "nbformat": 4,
 "nbformat_minor": 4
}
