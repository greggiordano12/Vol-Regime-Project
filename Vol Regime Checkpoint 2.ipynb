{
 "cells": [
  {
   "cell_type": "markdown",
   "metadata": {},
   "source": [
    "# Volatility Regime Prediction Checkpoint 2\n",
    "\n",
    "## Overview\n",
    "For the second part of our project, we focused on improving our volatilty regime prediction algorithm and implementing a portfolio trading strategy using the data from our regime prediction algorithm. The trading strategy considers a diverse portfolio of ETFs. When our regime prediction says we will be in a low-vol environment next week, then our strategy uses equal weighting to our portfolio; however, when the prediction for next week's volatility is high-vol, then the portfolio adjusts from equal weighting to min-vol weighting. To find the min-vol weighting we used the scipy.optimize package, and leveraged the sco.minimize function to find weights that minimize volatilty over the previous two weeks.\n",
    "\n",
    "With the random forest, our algorithm provides probabilities for a high-vol regime and low-vol regime for next week. Instead of investing all money into our high/low vol portfolios, we invest a percent based on the probability the random forest gives us that next week will either be high/low vol.\n",
    "\n",
    "## Portfolio Class \n",
    "The Portfolio class that we created takes in start_date, end_date, tickers, and an object from our Regime_Predict class. Within the class, there is a weekly_optimization function that performs our trading strategy by investing proper amounts into our min_vol and equally weighted portfolios. The file also contains various portfolio functions such as functions to create returns matrices, calculate portfolio returns/vol, and the function that uses sco.minimize to find the minimum vol weights for a portfolio. \n",
    "\n",
    "## ETFs For Portfolio\n",
    "#### - PNQI: NASDAQ Internet ETF  \n",
    "#### - SPY: SPDR S&P 500 ETF Trust\n",
    "#### - SPXL: Direxion Daily S&P 500 Bull 3X\n",
    "#### - XLK: Technology Select Sector SPDR Fund\n",
    "#### - XLY: Consumer Discretionary SPDR\n",
    "#### - XLF: Financial Select Sector SPDR Fund\n",
    "#### - SHY: iShares Barclay 1-3 Year Treasury Bond Fund\n",
    "\n",
    "\n",
    "## Vol_Outputs Class\n",
    "Within our main.py file, we have a Vol_Outputs class that is meant to tie together all of our other classes to provide outputs. Vol_Outputs takes in start_date, end_date, tickers, and fred_strings. From here, in its constructor, the class creates Vol_Data, Regime_Predict, and Portfolio objects which we use to find outputs. \n",
    "\n",
    "The Vol_Outputs class currently contains compare_equal, compare_spy, and analyze_volatile_periods methods. Each of these methods is defined to show users how our strategy performs against various benchmarks.\n",
    "    1. compare_equal: compares how our strategy did against a strategy that equally weights our tickers the entire time\n",
    "    2. compare_spy: compares how our strategy did against the SPY\n",
    "    3. analyze_volatile_periods: Shows how our strategy performed during the market's most volatile periods compared to the equally weighted portfolio and the SPY "
   ]
  },
  {
   "cell_type": "code",
   "execution_count": 25,
   "metadata": {},
   "outputs": [
    {
     "name": "stdout",
     "output_type": "stream",
     "text": [
      "2919\n",
      "2922\n"
     ]
    }
   ],
   "source": [
    "import os\n",
    "from Code.main.main import Vol_Outputs\n",
    "\n",
    "start_date = \"2008-01-01\"\n",
    "end_date=\"2020-06-20\"\n",
    "tickers = [\"PNQI\", \"SPY\",\"SPXL\", \"XLK\", \"XLY\", \"XLF\",\"SHY\"]\n",
    "fred_strings=[\"DCOILBRENTEU\" ,\"BAMLH0A0HYM2\", \"GOLDAMGBD228NLBM\",\"DAAA\",\"RIFSPPFAAD01NB\",\"BAMLHE00EHYIOAS\", \"DEXCHUS\", \"DEXUSEU\", \"T10Y3M\", \"BAMLEMFSFCRPITRIV\"]\n",
    "v_trial = Vol_Outputs(start_date, end_date, tickers, fred_strings)"
   ]
  },
  {
   "cell_type": "markdown",
   "metadata": {},
   "source": [
    "#### The code above creates a Vol_Outputs object called v_trial. From v_trial, we can generate the outputs that we want."
   ]
  },
  {
   "cell_type": "code",
   "execution_count": 26,
   "metadata": {},
   "outputs": [
    {
     "name": "stdout",
     "output_type": "stream",
     "text": [
      "                 Optimized_Port  Equal_Weight\n",
      "Metric (Annual)                              \n",
      "Return                 0.140139      0.125920\n",
      "Volatiltiy             0.124158      0.234504\n",
      "\n",
      "\n",
      "                  Optimized_Port       SPY\n",
      "Metric (Annual)                          \n",
      "Return                 0.140139  0.100477\n",
      "Volatiltiy             0.124158  0.194535\n",
      "\n",
      "\n",
      "                                  Optimized_Port  Equal_Weight_Port       SPY\n",
      "Metrics 2009-01-26 - 2009-03-26                                             \n",
      "Return                                 0.513810           0.255883  0.000000\n",
      "Volatilty                              0.112154           0.506826  0.417252\n",
      "VaR                                   -0.184476          -0.833654 -0.686319\n",
      "\n",
      "\n",
      "                                  Optimized_Port  Equal_Weight_Port       SPY\n",
      "Metrics 2010-05-26 - 2010-07-26                                             \n",
      "Return                                 0.044846           0.208752  0.204596\n",
      "Volatilty                              0.038564           0.293115  0.245622\n",
      "VaR                                   -0.063432          -0.482130 -0.404013\n",
      "\n",
      "\n",
      "                                  Optimized_Port  Equal_Weight_Port       SPY\n",
      "Metrics 2011-07-26 - 2011-09-26                                             \n",
      "Return                                -0.362495          -1.020385 -0.807049\n",
      "Volatilty                              0.089765           0.458431  0.375507\n",
      "VaR                                   -0.147650          -0.754053 -0.617654\n",
      "\n",
      "\n",
      "                                  Optimized_Port  Equal_Weight_Port       SPY\n",
      "Metrics 2018-01-29 - 2018-03-29                                             \n",
      "Return                                -0.108053          -0.510713 -0.499860\n",
      "Volatilty                              0.183050           0.274245  0.228731\n",
      "VaR                                   -0.301091          -0.451094 -0.376229\n",
      "\n",
      "\n",
      "                                  Optimized_Port  Equal_Weight_Port       SPY\n",
      "Metrics 2018-09-27 - 2018-12-27                                             \n",
      "Return                                -0.360236          -0.806516 -0.623024\n",
      "Volatilty                              0.157359           0.293703  0.236198\n",
      "VaR                                   -0.258833          -0.483099 -0.388511\n",
      "\n",
      "\n",
      "                                  Optimized_Port  Equal_Weight_Port       SPY\n",
      "Metrics 2020-02-15 - 2020-04-15                                             \n",
      "Return                                -0.351738          -1.641804 -1.199178\n",
      "Volatilty                              0.164943           0.839666  0.712873\n",
      "VaR                                   -0.271307          -1.381127 -1.172572\n"
     ]
    }
   ],
   "source": [
    "print(v_trial.compare_equal())\n",
    "print(\"\\n\\n\",v_trial.compare_spy())\n",
    "x= v_trial.analyze_volatile_periods()\n",
    "for i in x.keys():\n",
    "    print(\"\\n\\n\", x[i])"
   ]
  },
  {
   "cell_type": "markdown",
   "metadata": {},
   "source": [
    "As can be seen from the above outputs, the optimized portfolio tends to outperform on both an annual basis and when broken down into the highest volatility regimes. "
   ]
  }
 ],
 "metadata": {
  "kernelspec": {
   "display_name": "Python 3",
   "language": "python",
   "name": "python3"
  },
  "language_info": {
   "codemirror_mode": {
    "name": "ipython",
    "version": 3
   },
   "file_extension": ".py",
   "mimetype": "text/x-python",
   "name": "python",
   "nbconvert_exporter": "python",
   "pygments_lexer": "ipython3",
   "version": "3.8.3"
  }
 },
 "nbformat": 4,
 "nbformat_minor": 4
}
