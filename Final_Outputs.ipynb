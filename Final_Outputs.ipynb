{
 "cells": [
  {
   "cell_type": "markdown",
   "metadata": {},
   "source": [
    "## Pinnacle Summer Project Final Outputs\n",
    "\n",
    "## Using Machine Learning and Portfolio Optimization to Navigate Volatility Regimes\n",
    "\n",
    "###  By Gregory Giordano and Vincent Cortese\n",
    "\n",
    "<p>&nbsp;</p><p>&nbsp;</p>\n",
    "\n",
    "\n",
    "\n",
    "## The Portfolio:\n",
    "   ### *- SPXL: Direxion Daily S&P500 Bull 3X Shares (Market Returns)*\n",
    "   - **SPXL** : Provides market exposure for the portfolio. Able to use leveraged ETF to emphasize returns because of the optimal weighting \n",
    "   ### *- PNQI: Invesco NASDAQ Internet ETF (Alpha Returns)*\n",
    "   - **PNQI** : Provides portfolio with option to get more exposure to specific sector \n",
    "   ### *- GLD: SPDR Gold Shares (Vol Hedge)*\n",
    "   - **GLD** : Provides portfolio with hedge against market volatility "
   ]
  },
  {
   "cell_type": "code",
   "execution_count": 11,
   "metadata": {},
   "outputs": [],
   "source": [
    "from Code.Trading_Strats.portfolioClass import returns_matrix\n",
    "import matplotlib.pyplot as plt"
   ]
  },
  {
   "cell_type": "code",
   "execution_count": 5,
   "metadata": {},
   "outputs": [
    {
     "name": "stdout",
     "output_type": "stream",
     "text": [
      "2919\n",
      "2922\n"
     ]
    }
   ],
   "source": [
    "from Code.main import main\n",
    "v_trial = main.Vol_Outputs(end_date=\"2020-06-20\")"
   ]
  },
  {
   "cell_type": "code",
   "execution_count": 17,
   "metadata": {},
   "outputs": [
    {
     "name": "stdout",
     "output_type": "stream",
     "text": [
      "                 Optimized_Port  Equal_Weight\n",
      "Metric (Annual)                              \n",
      "Return                 0.137161      0.160075\n",
      "Volatiltiy             0.148773      0.268366\n",
      "                 Optimized_Port       SPY\n",
      "Metric (Annual)                          \n",
      "Return                 0.137161  0.060705\n",
      "Volatiltiy             0.148773  0.211584\n"
     ]
    },
    {
     "data": {
      "image/png": "[encoded data removed]",
      "text/plain": [
       "<Figure size 432x288 with 1 Axes>"
      ]
     },
     "metadata": {
      "needs_background": "light"
     },
     "output_type": "display_data"
    }
   ],
   "source": [
    "equal_compare = v_trial.compare_equal()\n",
    "spy_compare = v_trial.compare_spy()\n",
    "print(equal_compare)\n",
    "print(spy_compare)\n",
    "\n",
    "optimal_returns = v_trial.opt_daily.dropna()\n",
    "spy_returns = returns_matrix(['SPY'], start_date=\"2008-11-09\", end_date=\"2020-06-20\")\n",
    "cum_optimal_returns, cum_spy_returns = ((optimal_returns+1).cumprod()-1),((spy_returns+1).cumprod()-1)\n",
    "plt.plot(cum_optimal_returns, label = \"Optimal Portfolio\")\n",
    "plt.plot(cum_spy_returns, label = \"SPY\")\n",
    "plt.legend()\n",
    "plt.title(\"Cumlative Returns of SPY and Optimal Portfolio\")\n",
    "plt.xlabel(\"Date\")\n",
    "plt.ylabel(\"Cumlative Return\")\n",
    "plt.show()"
   ]
  },
  {
   "cell_type": "code",
   "execution_count": 19,
   "metadata": {},
   "outputs": [
    {
     "data": {
      "text/plain": [
       "{0:                                  Optimized_Port  Equal_Weight_Port       SPY\n",
       " Metrics 2009-01-26 - 2009-03-26                                             \n",
       " Return                                 0.508791           0.330827  0.000000\n",
       " Volatilty                              0.112220           0.447222  0.417252\n",
       " VaR                                   -0.184586          -0.735615 -0.686319,\n",
       " 1:                                  Optimized_Port  Equal_Weight_Port       SPY\n",
       " Metrics 2010-05-26 - 2010-07-26                                             \n",
       " Return                                 0.051690           0.234609  0.204596\n",
       " Volatilty                              0.037294           0.333912  0.245622\n",
       " VaR                                   -0.061343          -0.549236 -0.404013,\n",
       " 2:                                  Optimized_Port  Equal_Weight_Port       SPY\n",
       " Metrics 2011-07-26 - 2011-09-26                                             \n",
       " Return                                -0.125153          -1.307058 -0.807049\n",
       " Volatilty                              0.060504           0.499669  0.375507\n",
       " VaR                                   -0.099521          -0.821882 -0.617654,\n",
       " 3:                                  Optimized_Port  Equal_Weight_Port       SPY\n",
       " Metrics 2018-01-29 - 2018-03-29                                             \n",
       " Return                                -0.437240          -0.629693 -0.499860\n",
       " Volatilty                              0.206177           0.322380  0.228731\n",
       " VaR                                   -0.339131          -0.530267 -0.376229,\n",
       " 4:                                  Optimized_Port  Equal_Weight_Port       SPY\n",
       " Metrics 2018-09-27 - 2018-12-27                                             \n",
       " Return                                -0.409201          -0.875714 -0.623024\n",
       " Volatilty                              0.150573           0.336080  0.236198\n",
       " VaR                                   -0.247670          -0.552803 -0.388511,\n",
       " 5:                                  Optimized_Port  Equal_Weight_Port       SPY\n",
       " Metrics 2020-02-15 - 2020-04-15                                             \n",
       " Return                                -0.893679          -1.833718 -1.199178\n",
       " Volatilty                              0.241605           0.961925  0.712873\n",
       " VaR                                   -0.397405          -1.582226 -1.172572}"
      ]
     },
     "execution_count": 19,
     "metadata": {},
     "output_type": "execute_result"
    }
   ],
   "source": [
    "v_trial.analyze_volatile_periods()"
   ]
  },
  {
   "cell_type": "markdown",
   "metadata": {},
   "source": [
    "## Optimization Technique\n",
    "\n",
    "- To optimize the portfolio, when our algorithm predicted a high vol regime the following week (vix > 20), we looked back on the past two weeks of data and used scipy to minimize portfolio volatility. The minimization method is Nelder-Mead which is a direct search method that can find the minimum of functions without defined derivatives. "
   ]
  },
  {
   "cell_type": "code",
   "execution_count": null,
   "metadata": {},
   "outputs": [],
   "source": []
  }
 ],
 "metadata": {
  "kernelspec": {
   "display_name": "Python 3",
   "language": "python",
   "name": "python3"
  },
  "language_info": {
   "codemirror_mode": {
    "name": "ipython",
    "version": 3
   },
   "file_extension": ".py",
   "mimetype": "text/x-python",
   "name": "python",
   "nbconvert_exporter": "python",
   "pygments_lexer": "ipython3",
   "version": "3.7.4"
  }
 },
 "nbformat": 4,
 "nbformat_minor": 2
}
