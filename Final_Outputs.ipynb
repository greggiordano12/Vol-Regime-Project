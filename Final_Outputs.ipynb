{
 "cells": [
  {
   "cell_type": "markdown",
   "metadata": {},
   "source": [
    "## Pinnacle Summer Project Final Outputs\n",
    "\n",
    "## Using Machine Learning and Portfolio Optimization to Navigate Volatility Regimes\n",
    "\n",
    "###  By Gregory Giordano and Vincent Cortese\n",
    "\n",
    "<p>&nbsp;</p><p>&nbsp;</p>\n",
    "\n",
    "\n",
    "\n",
    "## The Portfolio:\n",
    "   ### *- SPXL: Direxion Daily S&P500 Bull 3X Shares (Market Returns)*\n",
    "   - **SPXL** : Provides market exposure for the portfolio. Able to use leveraged ETF to emphasize returns because of the optimal weighting \n",
    "   ### *- PNQI: Invesco NASDAQ Internet ETF (Alpha Returns)*\n",
    "   - **PNQI** : Provides portfolio with option to get more exposure to specific sector \n",
    "   ### *- GLD: SPDR Gold Shares (Vol Hedge)*\n",
    "   - **GLD** : Provides portfolio with hedge against market volatility "
   ]
  },
  {
   "cell_type": "code",
   "execution_count": 3,
   "metadata": {},
   "outputs": [
    {
     "ename": "ModuleNotFoundError",
     "evalue": "No module named 'main'",
     "output_type": "error",
     "traceback": [
      "\u001b[1;31m---------------------------------------------------------------------------\u001b[0m",
      "\u001b[1;31mModuleNotFoundError\u001b[0m                       Traceback (most recent call last)",
      "\u001b[1;32m<ipython-input-3-4264a0493c06>\u001b[0m in \u001b[0;36m<module>\u001b[1;34m\u001b[0m\n\u001b[1;32m----> 1\u001b[1;33m \u001b[1;32mfrom\u001b[0m \u001b[0mmain\u001b[0m \u001b[1;32mimport\u001b[0m \u001b[0mVol_Outputs\u001b[0m\u001b[1;33m\u001b[0m\u001b[1;33m\u001b[0m\u001b[0m\n\u001b[0m",
      "\u001b[1;31mModuleNotFoundError\u001b[0m: No module named 'main'"
     ]
    }
   ],
   "source": [
    "from main import Vol_Outputs"
   ]
  },
  {
   "cell_type": "code",
   "execution_count": null,
   "metadata": {},
   "outputs": [],
   "source": []
  }
 ],
 "metadata": {
  "kernelspec": {
   "display_name": "Python 3",
   "language": "python",
   "name": "python3"
  },
  "language_info": {
   "codemirror_mode": {
    "name": "ipython",
    "version": 3
   },
   "file_extension": ".py",
   "mimetype": "text/x-python",
   "name": "python",
   "nbconvert_exporter": "python",
   "pygments_lexer": "ipython3",
   "version": "3.7.4"
  }
 },
 "nbformat": 4,
 "nbformat_minor": 2
}
