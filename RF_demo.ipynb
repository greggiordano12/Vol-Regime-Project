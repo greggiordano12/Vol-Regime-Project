{
 "cells": [
  {
   "cell_type": "markdown",
   "metadata": {},
   "source": [
    "# Random Forest Demonstration\n",
    "## Overview\n",
    "We are using a Random Forest Classifier to predict the volatility regimes in the markets. In short, the random forest is known as the \"black box\" algorithm. It constructs multiple decision trees that output a classiefier prediction and randomizes each tree to protect against overfitting of the data. The result of all the individual trees becomes our random forest prediction. \n",
    "\n",
    "\n",
    "## Vol_Data Class \n",
    "\n",
    "### FRED IDs with labels:\n",
    "\n",
    "DCOILBRENTEU: European Brent Oil Prices\n",
    "\n",
    "BAMLH0A0HYM2: US high yield index option-adjusted spread\n",
    "\n",
    "GOLDAMGBD228NLBM: Gold fixing price in London Bullion\n",
    "\n",
    "DAAA: Moody's corporate bond yield\n",
    "\n",
    "RIFSPPFAAD01NB: Overnight commercial paper interest rate\n",
    "\n",
    "BAMLHE00EHYIOAS: Euro high yield index option-adjusted spread\n",
    "\n",
    "T10Y3M:10 year treasury bond minus 3 month treasury bond\n",
    "\n",
    "BAMLEMFSFCRPITRIV:Emerging markets corporate bond yields\n",
    "\n",
    "DEXCHUS: Daily China/US Exchange Rates\n",
    "\n",
    "DEXUSEU: Daily US/EU Exchange Rates\n",
    "\n",
    "\n",
    "### Other data \n",
    "GDX_Volume: Weekly Volume of the GDX etf, which tracks gold miners\n",
    "\n",
    "SHY_Volume: Weekly Volume of the SHY etf, which is a 1-3 yr treasury bond fund\n",
    "\n",
    "SPY_Volume: Weekly Volume of the SPY etf, representing the S&P500"
   ]
  },
  {
   "cell_type": "code",
   "execution_count": 1,
   "metadata": {},
   "outputs": [
    {
     "name": "stderr",
     "output_type": "stream",
     "text": [
      "C:\\Users\\Vincent\\AppData\\Local\\Programs\\Python\\Python37-32\\lib\\site-packages\\pandas_datareader\\compat\\__init__.py:7: FutureWarning: pandas.util.testing is deprecated. Use the functions in the public API at pandas.testing instead.\n",
      "  from pandas.util.testing import assert_frame_equal\n"
     ]
    }
   ],
   "source": [
    "from Code.Data.Inputs import volClass #imports volClass file which contains Vol_Data\n",
    "#fred IDs to access Fred data\n",
    "fred_s = [\"DCOILBRENTEU\",\"BAMLH0A0HYM2\", \"GOLDAMGBD228NLBM\",\"DAAA\",\"RIFSPPFAAD01NB\",\"BAMLHE00EHYIOAS\", \"T10Y3M\", \"BAMLEMFSFCRPITRIV\", \"DEXCHUS\", \"DEXUSEU\"]\n",
    "\n",
    "#create vol_data object\n",
    "# Vol_Data(start_date, end_date = None, fred_strings = None) Notice default for end_date and fred_strings is None\n",
    "trial_vol = volClass.Vol_Data(\"2007-01-01\", \"2020-06-26\", fred_strings = fred_s)"
   ]
  },
  {
   "cell_type": "code",
   "execution_count": 2,
   "metadata": {},
   "outputs": [],
   "source": [
    "from Code.Data import rfClass\n",
    "\n",
    "# Regime_Predict(Vol_Data object, test_size = .3, n_estimators= 10) we chose default test data size as .3 and n_estimators for random forest as 10\n",
    "trial_regime_prediction = rfClass.Regime_Predict(trial_vol)"
   ]
  },
  {
   "cell_type": "code",
   "execution_count": 3,
   "metadata": {},
   "outputs": [
    {
     "data": {
      "text/html": [
       "<div>\n",
       "<style scoped>\n",
       "    .dataframe tbody tr th:only-of-type {\n",
       "        vertical-align: middle;\n",
       "    }\n",
       "\n",
       "    .dataframe tbody tr th {\n",
       "        vertical-align: top;\n",
       "    }\n",
       "\n",
       "    .dataframe thead th {\n",
       "        text-align: right;\n",
       "    }\n",
       "</style>\n",
       "<table border=\"1\" class=\"dataframe\">\n",
       "  <thead>\n",
       "    <tr style=\"text-align: right;\">\n",
       "      <th></th>\n",
       "      <th>DCOILBRENTEU</th>\n",
       "      <th>BAMLH0A0HYM2</th>\n",
       "      <th>GOLDAMGBD228NLBM</th>\n",
       "      <th>DAAA</th>\n",
       "      <th>RIFSPPFAAD01NB</th>\n",
       "      <th>BAMLHE00EHYIOAS</th>\n",
       "      <th>T10Y3M</th>\n",
       "      <th>BAMLEMFSFCRPITRIV</th>\n",
       "      <th>DEXCHUS</th>\n",
       "      <th>DEXUSEU</th>\n",
       "      <th>SPY_Volume</th>\n",
       "      <th>SHY_Volume</th>\n",
       "      <th>GDX_Volume</th>\n",
       "    </tr>\n",
       "  </thead>\n",
       "  <tbody>\n",
       "    <tr>\n",
       "      <th>DCOILBRENTEU</th>\n",
       "      <td>1.000000</td>\n",
       "      <td>-0.157277</td>\n",
       "      <td>0.274688</td>\n",
       "      <td>0.277286</td>\n",
       "      <td>-0.106137</td>\n",
       "      <td>-0.032087</td>\n",
       "      <td>0.349505</td>\n",
       "      <td>-0.322899</td>\n",
       "      <td>-0.358679</td>\n",
       "      <td>0.693371</td>\n",
       "      <td>0.130487</td>\n",
       "      <td>-0.243345</td>\n",
       "      <td>-0.514960</td>\n",
       "    </tr>\n",
       "    <tr>\n",
       "      <th>BAMLH0A0HYM2</th>\n",
       "      <td>-0.157277</td>\n",
       "      <td>1.000000</td>\n",
       "      <td>-0.231555</td>\n",
       "      <td>0.370911</td>\n",
       "      <td>-0.284520</td>\n",
       "      <td>0.970608</td>\n",
       "      <td>0.417665</td>\n",
       "      <td>-0.579622</td>\n",
       "      <td>0.048598</td>\n",
       "      <td>0.248449</td>\n",
       "      <td>0.710897</td>\n",
       "      <td>-0.001323</td>\n",
       "      <td>-0.257475</td>\n",
       "    </tr>\n",
       "    <tr>\n",
       "      <th>GOLDAMGBD228NLBM</th>\n",
       "      <td>0.274688</td>\n",
       "      <td>-0.231555</td>\n",
       "      <td>1.000000</td>\n",
       "      <td>-0.725320</td>\n",
       "      <td>-0.573220</td>\n",
       "      <td>-0.173025</td>\n",
       "      <td>-0.006411</td>\n",
       "      <td>0.552956</td>\n",
       "      <td>-0.576162</td>\n",
       "      <td>-0.271010</td>\n",
       "      <td>-0.264468</td>\n",
       "      <td>0.216981</td>\n",
       "      <td>0.235443</td>\n",
       "    </tr>\n",
       "    <tr>\n",
       "      <th>DAAA</th>\n",
       "      <td>0.277286</td>\n",
       "      <td>0.370911</td>\n",
       "      <td>-0.725320</td>\n",
       "      <td>1.000000</td>\n",
       "      <td>0.322785</td>\n",
       "      <td>0.400015</td>\n",
       "      <td>0.440434</td>\n",
       "      <td>-0.879708</td>\n",
       "      <td>0.371674</td>\n",
       "      <td>0.747913</td>\n",
       "      <td>0.557265</td>\n",
       "      <td>-0.323795</td>\n",
       "      <td>-0.628777</td>\n",
       "    </tr>\n",
       "    <tr>\n",
       "      <th>RIFSPPFAAD01NB</th>\n",
       "      <td>-0.106137</td>\n",
       "      <td>-0.284520</td>\n",
       "      <td>-0.573220</td>\n",
       "      <td>0.322785</td>\n",
       "      <td>1.000000</td>\n",
       "      <td>-0.295886</td>\n",
       "      <td>-0.680422</td>\n",
       "      <td>-0.155659</td>\n",
       "      <td>0.785087</td>\n",
       "      <td>0.112192</td>\n",
       "      <td>-0.051327</td>\n",
       "      <td>-0.039432</td>\n",
       "      <td>-0.212992</td>\n",
       "    </tr>\n",
       "    <tr>\n",
       "      <th>BAMLHE00EHYIOAS</th>\n",
       "      <td>-0.032087</td>\n",
       "      <td>0.970608</td>\n",
       "      <td>-0.173025</td>\n",
       "      <td>0.400015</td>\n",
       "      <td>-0.295886</td>\n",
       "      <td>1.000000</td>\n",
       "      <td>0.452324</td>\n",
       "      <td>-0.622814</td>\n",
       "      <td>0.019744</td>\n",
       "      <td>0.312628</td>\n",
       "      <td>0.698997</td>\n",
       "      <td>-0.046371</td>\n",
       "      <td>-0.359939</td>\n",
       "    </tr>\n",
       "    <tr>\n",
       "      <th>T10Y3M</th>\n",
       "      <td>0.349505</td>\n",
       "      <td>0.417665</td>\n",
       "      <td>-0.006411</td>\n",
       "      <td>0.440434</td>\n",
       "      <td>-0.680422</td>\n",
       "      <td>0.452324</td>\n",
       "      <td>1.000000</td>\n",
       "      <td>-0.470507</td>\n",
       "      <td>-0.476126</td>\n",
       "      <td>0.474258</td>\n",
       "      <td>0.402115</td>\n",
       "      <td>-0.235223</td>\n",
       "      <td>-0.263930</td>\n",
       "    </tr>\n",
       "    <tr>\n",
       "      <th>BAMLEMFSFCRPITRIV</th>\n",
       "      <td>-0.322899</td>\n",
       "      <td>-0.579622</td>\n",
       "      <td>0.552956</td>\n",
       "      <td>-0.879708</td>\n",
       "      <td>-0.155659</td>\n",
       "      <td>-0.622814</td>\n",
       "      <td>-0.470507</td>\n",
       "      <td>1.000000</td>\n",
       "      <td>-0.271453</td>\n",
       "      <td>-0.782709</td>\n",
       "      <td>-0.664941</td>\n",
       "      <td>0.359546</td>\n",
       "      <td>0.728695</td>\n",
       "    </tr>\n",
       "    <tr>\n",
       "      <th>DEXCHUS</th>\n",
       "      <td>-0.358679</td>\n",
       "      <td>0.048598</td>\n",
       "      <td>-0.576162</td>\n",
       "      <td>0.371674</td>\n",
       "      <td>0.785087</td>\n",
       "      <td>0.019744</td>\n",
       "      <td>-0.476126</td>\n",
       "      <td>-0.271453</td>\n",
       "      <td>1.000000</td>\n",
       "      <td>0.076945</td>\n",
       "      <td>0.127969</td>\n",
       "      <td>-0.007563</td>\n",
       "      <td>-0.215082</td>\n",
       "    </tr>\n",
       "    <tr>\n",
       "      <th>DEXUSEU</th>\n",
       "      <td>0.693371</td>\n",
       "      <td>0.248449</td>\n",
       "      <td>-0.271010</td>\n",
       "      <td>0.747913</td>\n",
       "      <td>0.112192</td>\n",
       "      <td>0.312628</td>\n",
       "      <td>0.474258</td>\n",
       "      <td>-0.782709</td>\n",
       "      <td>0.076945</td>\n",
       "      <td>1.000000</td>\n",
       "      <td>0.467018</td>\n",
       "      <td>-0.327880</td>\n",
       "      <td>-0.735042</td>\n",
       "    </tr>\n",
       "    <tr>\n",
       "      <th>SPY_Volume</th>\n",
       "      <td>0.130487</td>\n",
       "      <td>0.710897</td>\n",
       "      <td>-0.264468</td>\n",
       "      <td>0.557265</td>\n",
       "      <td>-0.051327</td>\n",
       "      <td>0.698997</td>\n",
       "      <td>0.402115</td>\n",
       "      <td>-0.664941</td>\n",
       "      <td>0.127969</td>\n",
       "      <td>0.467018</td>\n",
       "      <td>1.000000</td>\n",
       "      <td>0.041940</td>\n",
       "      <td>-0.393619</td>\n",
       "    </tr>\n",
       "    <tr>\n",
       "      <th>SHY_Volume</th>\n",
       "      <td>-0.243345</td>\n",
       "      <td>-0.001323</td>\n",
       "      <td>0.216981</td>\n",
       "      <td>-0.323795</td>\n",
       "      <td>-0.039432</td>\n",
       "      <td>-0.046371</td>\n",
       "      <td>-0.235223</td>\n",
       "      <td>0.359546</td>\n",
       "      <td>-0.007563</td>\n",
       "      <td>-0.327880</td>\n",
       "      <td>0.041940</td>\n",
       "      <td>1.000000</td>\n",
       "      <td>0.360235</td>\n",
       "    </tr>\n",
       "    <tr>\n",
       "      <th>GDX_Volume</th>\n",
       "      <td>-0.514960</td>\n",
       "      <td>-0.257475</td>\n",
       "      <td>0.235443</td>\n",
       "      <td>-0.628777</td>\n",
       "      <td>-0.212992</td>\n",
       "      <td>-0.359939</td>\n",
       "      <td>-0.263930</td>\n",
       "      <td>0.728695</td>\n",
       "      <td>-0.215082</td>\n",
       "      <td>-0.735042</td>\n",
       "      <td>-0.393619</td>\n",
       "      <td>0.360235</td>\n",
       "      <td>1.000000</td>\n",
       "    </tr>\n",
       "  </tbody>\n",
       "</table>\n",
       "</div>"
      ],
      "text/plain": [
       "                   DCOILBRENTEU  BAMLH0A0HYM2  GOLDAMGBD228NLBM      DAAA  \\\n",
       "DCOILBRENTEU           1.000000     -0.157277          0.274688  0.277286   \n",
       "BAMLH0A0HYM2          -0.157277      1.000000         -0.231555  0.370911   \n",
       "GOLDAMGBD228NLBM       0.274688     -0.231555          1.000000 -0.725320   \n",
       "DAAA                   0.277286      0.370911         -0.725320  1.000000   \n",
       "RIFSPPFAAD01NB        -0.106137     -0.284520         -0.573220  0.322785   \n",
       "BAMLHE00EHYIOAS       -0.032087      0.970608         -0.173025  0.400015   \n",
       "T10Y3M                 0.349505      0.417665         -0.006411  0.440434   \n",
       "BAMLEMFSFCRPITRIV     -0.322899     -0.579622          0.552956 -0.879708   \n",
       "DEXCHUS               -0.358679      0.048598         -0.576162  0.371674   \n",
       "DEXUSEU                0.693371      0.248449         -0.271010  0.747913   \n",
       "SPY_Volume             0.130487      0.710897         -0.264468  0.557265   \n",
       "SHY_Volume            -0.243345     -0.001323          0.216981 -0.323795   \n",
       "GDX_Volume            -0.514960     -0.257475          0.235443 -0.628777   \n",
       "\n",
       "                   RIFSPPFAAD01NB  BAMLHE00EHYIOAS    T10Y3M  \\\n",
       "DCOILBRENTEU            -0.106137        -0.032087  0.349505   \n",
       "BAMLH0A0HYM2            -0.284520         0.970608  0.417665   \n",
       "GOLDAMGBD228NLBM        -0.573220        -0.173025 -0.006411   \n",
       "DAAA                     0.322785         0.400015  0.440434   \n",
       "RIFSPPFAAD01NB           1.000000        -0.295886 -0.680422   \n",
       "BAMLHE00EHYIOAS         -0.295886         1.000000  0.452324   \n",
       "T10Y3M                  -0.680422         0.452324  1.000000   \n",
       "BAMLEMFSFCRPITRIV       -0.155659        -0.622814 -0.470507   \n",
       "DEXCHUS                  0.785087         0.019744 -0.476126   \n",
       "DEXUSEU                  0.112192         0.312628  0.474258   \n",
       "SPY_Volume              -0.051327         0.698997  0.402115   \n",
       "SHY_Volume              -0.039432        -0.046371 -0.235223   \n",
       "GDX_Volume              -0.212992        -0.359939 -0.263930   \n",
       "\n",
       "                   BAMLEMFSFCRPITRIV   DEXCHUS   DEXUSEU  SPY_Volume  \\\n",
       "DCOILBRENTEU               -0.322899 -0.358679  0.693371    0.130487   \n",
       "BAMLH0A0HYM2               -0.579622  0.048598  0.248449    0.710897   \n",
       "GOLDAMGBD228NLBM            0.552956 -0.576162 -0.271010   -0.264468   \n",
       "DAAA                       -0.879708  0.371674  0.747913    0.557265   \n",
       "RIFSPPFAAD01NB             -0.155659  0.785087  0.112192   -0.051327   \n",
       "BAMLHE00EHYIOAS            -0.622814  0.019744  0.312628    0.698997   \n",
       "T10Y3M                     -0.470507 -0.476126  0.474258    0.402115   \n",
       "BAMLEMFSFCRPITRIV           1.000000 -0.271453 -0.782709   -0.664941   \n",
       "DEXCHUS                    -0.271453  1.000000  0.076945    0.127969   \n",
       "DEXUSEU                    -0.782709  0.076945  1.000000    0.467018   \n",
       "SPY_Volume                 -0.664941  0.127969  0.467018    1.000000   \n",
       "SHY_Volume                  0.359546 -0.007563 -0.327880    0.041940   \n",
       "GDX_Volume                  0.728695 -0.215082 -0.735042   -0.393619   \n",
       "\n",
       "                   SHY_Volume  GDX_Volume  \n",
       "DCOILBRENTEU        -0.243345   -0.514960  \n",
       "BAMLH0A0HYM2        -0.001323   -0.257475  \n",
       "GOLDAMGBD228NLBM     0.216981    0.235443  \n",
       "DAAA                -0.323795   -0.628777  \n",
       "RIFSPPFAAD01NB      -0.039432   -0.212992  \n",
       "BAMLHE00EHYIOAS     -0.046371   -0.359939  \n",
       "T10Y3M              -0.235223   -0.263930  \n",
       "BAMLEMFSFCRPITRIV    0.359546    0.728695  \n",
       "DEXCHUS             -0.007563   -0.215082  \n",
       "DEXUSEU             -0.327880   -0.735042  \n",
       "SPY_Volume           0.041940   -0.393619  \n",
       "SHY_Volume           1.000000    0.360235  \n",
       "GDX_Volume           0.360235    1.000000  "
      ]
     },
     "execution_count": 3,
     "metadata": {},
     "output_type": "execute_result"
    }
   ],
   "source": [
    "trial_regime_prediction.corr"
   ]
  },
  {
   "cell_type": "code",
   "execution_count": 4,
   "metadata": {},
   "outputs": [
    {
     "data": {
      "text/html": [
       "<div>\n",
       "<style scoped>\n",
       "    .dataframe tbody tr th:only-of-type {\n",
       "        vertical-align: middle;\n",
       "    }\n",
       "\n",
       "    .dataframe tbody tr th {\n",
       "        vertical-align: top;\n",
       "    }\n",
       "\n",
       "    .dataframe thead th {\n",
       "        text-align: right;\n",
       "    }\n",
       "</style>\n",
       "<table border=\"1\" class=\"dataframe\">\n",
       "  <thead>\n",
       "    <tr style=\"text-align: right;\">\n",
       "      <th></th>\n",
       "      <th>Low_Vol</th>\n",
       "      <th>Med_Vol</th>\n",
       "      <th>High_Vol</th>\n",
       "    </tr>\n",
       "    <tr>\n",
       "      <th>Week</th>\n",
       "      <th></th>\n",
       "      <th></th>\n",
       "      <th></th>\n",
       "    </tr>\n",
       "  </thead>\n",
       "  <tbody>\n",
       "    <tr>\n",
       "      <th>2007-01-08</th>\n",
       "      <td>1.0</td>\n",
       "      <td>0.0</td>\n",
       "      <td>0.0</td>\n",
       "    </tr>\n",
       "    <tr>\n",
       "      <th>2007-01-16</th>\n",
       "      <td>1.0</td>\n",
       "      <td>0.0</td>\n",
       "      <td>0.0</td>\n",
       "    </tr>\n",
       "    <tr>\n",
       "      <th>2007-01-22</th>\n",
       "      <td>1.0</td>\n",
       "      <td>0.0</td>\n",
       "      <td>0.0</td>\n",
       "    </tr>\n",
       "    <tr>\n",
       "      <th>2007-01-29</th>\n",
       "      <td>1.0</td>\n",
       "      <td>0.0</td>\n",
       "      <td>0.0</td>\n",
       "    </tr>\n",
       "    <tr>\n",
       "      <th>2007-02-05</th>\n",
       "      <td>1.0</td>\n",
       "      <td>0.0</td>\n",
       "      <td>0.0</td>\n",
       "    </tr>\n",
       "    <tr>\n",
       "      <th>...</th>\n",
       "      <td>...</td>\n",
       "      <td>...</td>\n",
       "      <td>...</td>\n",
       "    </tr>\n",
       "    <tr>\n",
       "      <th>2020-05-26</th>\n",
       "      <td>0.0</td>\n",
       "      <td>0.7</td>\n",
       "      <td>0.3</td>\n",
       "    </tr>\n",
       "    <tr>\n",
       "      <th>2020-06-01</th>\n",
       "      <td>0.1</td>\n",
       "      <td>0.6</td>\n",
       "      <td>0.3</td>\n",
       "    </tr>\n",
       "    <tr>\n",
       "      <th>2020-06-08</th>\n",
       "      <td>0.5</td>\n",
       "      <td>0.2</td>\n",
       "      <td>0.3</td>\n",
       "    </tr>\n",
       "    <tr>\n",
       "      <th>2020-06-15</th>\n",
       "      <td>0.5</td>\n",
       "      <td>0.2</td>\n",
       "      <td>0.3</td>\n",
       "    </tr>\n",
       "    <tr>\n",
       "      <th>2020-06-22</th>\n",
       "      <td>0.5</td>\n",
       "      <td>0.2</td>\n",
       "      <td>0.3</td>\n",
       "    </tr>\n",
       "  </tbody>\n",
       "</table>\n",
       "<p>703 rows × 3 columns</p>\n",
       "</div>"
      ],
      "text/plain": [
       "            Low_Vol  Med_Vol  High_Vol\n",
       "Week                                  \n",
       "2007-01-08      1.0      0.0       0.0\n",
       "2007-01-16      1.0      0.0       0.0\n",
       "2007-01-22      1.0      0.0       0.0\n",
       "2007-01-29      1.0      0.0       0.0\n",
       "2007-02-05      1.0      0.0       0.0\n",
       "...             ...      ...       ...\n",
       "2020-05-26      0.0      0.7       0.3\n",
       "2020-06-01      0.1      0.6       0.3\n",
       "2020-06-08      0.5      0.2       0.3\n",
       "2020-06-15      0.5      0.2       0.3\n",
       "2020-06-22      0.5      0.2       0.3\n",
       "\n",
       "[703 rows x 3 columns]"
      ]
     },
     "execution_count": 4,
     "metadata": {},
     "output_type": "execute_result"
    }
   ],
   "source": [
    "trial_regime_prediction.all_prob"
   ]
  },
  {
   "cell_type": "code",
   "execution_count": 5,
   "metadata": {},
   "outputs": [
    {
     "data": {
      "text/html": [
       "<div>\n",
       "<style scoped>\n",
       "    .dataframe tbody tr th:only-of-type {\n",
       "        vertical-align: middle;\n",
       "    }\n",
       "\n",
       "    .dataframe tbody tr th {\n",
       "        vertical-align: top;\n",
       "    }\n",
       "\n",
       "    .dataframe thead th {\n",
       "        text-align: right;\n",
       "    }\n",
       "</style>\n",
       "<table border=\"1\" class=\"dataframe\">\n",
       "  <thead>\n",
       "    <tr style=\"text-align: right;\">\n",
       "      <th></th>\n",
       "      <th>Vol_Regime</th>\n",
       "    </tr>\n",
       "    <tr>\n",
       "      <th>Week</th>\n",
       "      <th></th>\n",
       "    </tr>\n",
       "  </thead>\n",
       "  <tbody>\n",
       "    <tr>\n",
       "      <th>2007-01-08</th>\n",
       "      <td>-1</td>\n",
       "    </tr>\n",
       "    <tr>\n",
       "      <th>2007-01-16</th>\n",
       "      <td>-1</td>\n",
       "    </tr>\n",
       "    <tr>\n",
       "      <th>2007-01-22</th>\n",
       "      <td>-1</td>\n",
       "    </tr>\n",
       "    <tr>\n",
       "      <th>2007-01-29</th>\n",
       "      <td>-1</td>\n",
       "    </tr>\n",
       "    <tr>\n",
       "      <th>2007-02-05</th>\n",
       "      <td>-1</td>\n",
       "    </tr>\n",
       "    <tr>\n",
       "      <th>...</th>\n",
       "      <td>...</td>\n",
       "    </tr>\n",
       "    <tr>\n",
       "      <th>2020-05-26</th>\n",
       "      <td>0</td>\n",
       "    </tr>\n",
       "    <tr>\n",
       "      <th>2020-06-01</th>\n",
       "      <td>0</td>\n",
       "    </tr>\n",
       "    <tr>\n",
       "      <th>2020-06-08</th>\n",
       "      <td>-1</td>\n",
       "    </tr>\n",
       "    <tr>\n",
       "      <th>2020-06-15</th>\n",
       "      <td>-1</td>\n",
       "    </tr>\n",
       "    <tr>\n",
       "      <th>2020-06-22</th>\n",
       "      <td>-1</td>\n",
       "    </tr>\n",
       "  </tbody>\n",
       "</table>\n",
       "<p>703 rows × 1 columns</p>\n",
       "</div>"
      ],
      "text/plain": [
       "            Vol_Regime\n",
       "Week                  \n",
       "2007-01-08          -1\n",
       "2007-01-16          -1\n",
       "2007-01-22          -1\n",
       "2007-01-29          -1\n",
       "2007-02-05          -1\n",
       "...                ...\n",
       "2020-05-26           0\n",
       "2020-06-01           0\n",
       "2020-06-08          -1\n",
       "2020-06-15          -1\n",
       "2020-06-22          -1\n",
       "\n",
       "[703 rows x 1 columns]"
      ]
     },
     "execution_count": 5,
     "metadata": {},
     "output_type": "execute_result"
    }
   ],
   "source": [
    "trial_regime_prediction.all_predictions_df"
   ]
  },
  {
   "cell_type": "code",
   "execution_count": 7,
   "metadata": {
    "scrolled": true
   },
   "outputs": [
    {
     "data": {
      "image/png": "[encoded data removed]",
      "text/plain": [
       "<Figure size 468x324 with 1 Axes>"
      ]
     },
     "metadata": {
      "needs_background": "light"
     },
     "output_type": "display_data"
    },
    {
     "data": {
      "text/plain": [
       "<Figure size 360x360 with 0 Axes>"
      ]
     },
     "metadata": {},
     "output_type": "display_data"
    },
    {
     "name": "stdout",
     "output_type": "stream",
     "text": [
      "Feature ranking:\n",
      "1. feature 10 (0.225715)\n",
      "2. feature 7 (0.144242)\n",
      "3. feature 1 (0.134322)\n",
      "4. feature 5 (0.093442)\n",
      "5. feature 2 (0.056588)\n",
      "6. feature 3 (0.053155)\n",
      "7. feature 9 (0.048820)\n",
      "8. feature 4 (0.045727)\n",
      "9. feature 0 (0.044150)\n",
      "10. feature 8 (0.044090)\n",
      "11. feature 6 (0.043326)\n",
      "12. feature 11 (0.036972)\n",
      "13. feature 12 (0.029451)\n"
     ]
    },
    {
     "data": {
      "image/png": "[encoded data removed]",
      "text/plain": [
       "<Figure size 432x288 with 1 Axes>"
      ]
     },
     "metadata": {
      "needs_background": "light"
     },
     "output_type": "display_data"
    }
   ],
   "source": [
    "trial_regime_prediction.plot_feature_importances()\n",
    "\n",
    "trial_regime_prediction.plot_feature_rankings()"
   ]
  },
  {
   "cell_type": "markdown",
   "metadata": {},
   "source": [
    "This graph illustrates which of the factors we used, and the relative significance of them in our actual predictions."
   ]
  },
  {
   "cell_type": "code",
   "execution_count": 8,
   "metadata": {},
   "outputs": [
    {
     "name": "stdout",
     "output_type": "stream",
     "text": [
      "              precision    recall  f1-score   support\n",
      "\n",
      "          -1       0.92      0.94      0.93       138\n",
      "           0       0.79      0.81      0.80        47\n",
      "           1       0.95      0.81      0.88        26\n",
      "\n",
      "    accuracy                           0.90       211\n",
      "   macro avg       0.89      0.85      0.87       211\n",
      "weighted avg       0.90      0.90      0.90       211\n",
      "\n"
     ]
    }
   ],
   "source": [
    "trial_regime_prediction.classification_report()"
   ]
  },
  {
   "cell_type": "markdown",
   "metadata": {},
   "source": [
    "### Classification Report\n",
    "\n",
    "Precision: TP / TP + FP -- Out of all the positive classes we have predicted correctly, how many are positive. \n",
    "\n",
    "Recall: TP / TP + FN -- Out of all positive classes, how much we have predicted correctly. \n",
    "\n",
    "f1-score: Weighted average between precision and recall scores\n",
    "\n",
    "Support: Number of occurences of each label in the true data set. \n",
    "\n",
    "Macro and weighted avg look at the data holistically, and then makes the same calculations - weighted is similar to macro, but accounts for label imbalance, by taking the weighted mean of the metrics for each data label, where macro takes an unweighted mean. \n",
    "\n",
    "\n",
    "### Confusion Matrix\n",
    "This visualizes the classification report, showing which were correctly predicted, as well as the False Positives and False Negatives."
   ]
  },
  {
   "cell_type": "code",
   "execution_count": 9,
   "metadata": {},
   "outputs": [
    {
     "name": "stdout",
     "output_type": "stream",
     "text": [
      "Confusion Matrix: \n"
     ]
    },
    {
     "data": {
      "image/png": "[encoded data removed]",
      "text/plain": [
       "<Figure size 432x288 with 2 Axes>"
      ]
     },
     "metadata": {
      "needs_background": "light"
     },
     "output_type": "display_data"
    }
   ],
   "source": [
    "trial_regime_prediction.confusion_matrix()"
   ]
  },
  {
   "cell_type": "code",
   "execution_count": 10,
   "metadata": {},
   "outputs": [
    {
     "name": "stdout",
     "output_type": "stream",
     "text": [
      "Fitting 3 folds for each of 100 candidates, totalling 300 fits\n"
     ]
    },
    {
     "name": "stderr",
     "output_type": "stream",
     "text": [
      "[Parallel(n_jobs=-1)]: Using backend LokyBackend with 4 concurrent workers.\n",
      "[Parallel(n_jobs=-1)]: Done  33 tasks      | elapsed:   47.9s\n",
      "[Parallel(n_jobs=-1)]: Done 154 tasks      | elapsed:  3.6min\n",
      "[Parallel(n_jobs=-1)]: Done 300 out of 300 | elapsed:  6.8min finished\n"
     ]
    },
    {
     "name": "stdout",
     "output_type": "stream",
     "text": [
      "{'n_estimators': 1200, 'max_features': 'sqrt', 'max_depth': 260}\n"
     ]
    }
   ],
   "source": [
    "trial_regime_prediction.best_params()"
   ]
  },
  {
   "cell_type": "code",
   "execution_count": 16,
   "metadata": {},
   "outputs": [],
   "source": [
    "optimal_regime_pred = rfClass.Regime_Predict(trial_vol, n_estimators = 1200, max_features = 'sqrt', max_depth = 260)"
   ]
  },
  {
   "cell_type": "code",
   "execution_count": 17,
   "metadata": {},
   "outputs": [
    {
     "data": {
      "image/png": "[encoded data removed]",
      "text/plain": [
       "<Figure size 468x324 with 1 Axes>"
      ]
     },
     "metadata": {
      "needs_background": "light"
     },
     "output_type": "display_data"
    },
    {
     "data": {
      "text/plain": [
       "<Figure size 360x360 with 0 Axes>"
      ]
     },
     "metadata": {},
     "output_type": "display_data"
    },
    {
     "name": "stdout",
     "output_type": "stream",
     "text": [
      "Feature ranking:\n",
      "1. feature 10 (0.214503)\n",
      "2. feature 1 (0.158442)\n",
      "3. feature 7 (0.119053)\n",
      "4. feature 5 (0.104356)\n",
      "5. feature 2 (0.062323)\n",
      "6. feature 3 (0.055618)\n",
      "7. feature 12 (0.047659)\n",
      "8. feature 9 (0.046016)\n",
      "9. feature 8 (0.044005)\n",
      "10. feature 0 (0.041208)\n",
      "11. feature 4 (0.038457)\n",
      "12. feature 11 (0.035680)\n",
      "13. feature 6 (0.032680)\n"
     ]
    },
    {
     "data": {
      "image/png": "[encoded data removed]",
      "text/plain": [
       "<Figure size 432x288 with 1 Axes>"
      ]
     },
     "metadata": {
      "needs_background": "light"
     },
     "output_type": "display_data"
    }
   ],
   "source": [
    "optimal_regime_pred.plot_feature_importances()\n",
    "optimal_regime_pred.plot_feature_rankings()"
   ]
  },
  {
   "cell_type": "code",
   "execution_count": 18,
   "metadata": {},
   "outputs": [
    {
     "name": "stdout",
     "output_type": "stream",
     "text": [
      "              precision    recall  f1-score   support\n",
      "\n",
      "          -1       0.90      0.94      0.92       137\n",
      "           0       0.67      0.73      0.70        44\n",
      "           1       0.90      0.60      0.72        30\n",
      "\n",
      "    accuracy                           0.85       211\n",
      "   macro avg       0.82      0.76      0.78       211\n",
      "weighted avg       0.85      0.85      0.85       211\n",
      "\n"
     ]
    }
   ],
   "source": [
    "optimal_regime_pred.classification_report()"
   ]
  },
  {
   "cell_type": "code",
   "execution_count": 19,
   "metadata": {},
   "outputs": [
    {
     "name": "stdout",
     "output_type": "stream",
     "text": [
      "Confusion Matrix: \n"
     ]
    },
    {
     "data": {
      "image/png": "[encoded data removed]",
      "text/plain": [
       "<Figure size 432x288 with 2 Axes>"
      ]
     },
     "metadata": {
      "needs_background": "light"
     },
     "output_type": "display_data"
    }
   ],
   "source": [
    "optimal_regime_pred.confusion_matrix()"
   ]
  }
 ],
 "metadata": {
  "kernelspec": {
   "display_name": "Python 3",
   "language": "python",
   "name": "python3"
  },
  "language_info": {
   "codemirror_mode": {
    "name": "ipython",
    "version": 3
   },
   "file_extension": ".py",
   "mimetype": "text/x-python",
   "name": "python",
   "nbconvert_exporter": "python",
   "pygments_lexer": "ipython3",
   "version": "3.7.4"
  }
 },
 "nbformat": 4,
 "nbformat_minor": 2
}
