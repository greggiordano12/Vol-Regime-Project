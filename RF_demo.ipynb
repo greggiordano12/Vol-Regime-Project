{
 "cells": [
  {
   "cell_type": "markdown",
   "metadata": {},
   "source": [
    "# Random Forest Demonstration\n",
    "## Overview\n",
    "We are using a Random Forest Classifier to predict the volatility regimes in the markets. In short, the random forest is known as the \"black box\" algorithm. It constructs multiple decision trees that output a classiefier prediction and randomizes each tree to protect against overfitting of the data. The result of all the individual trees becomes our random forest prediction. \n",
    "\n",
    "\n",
    "## Vol_Data class example\n",
    "\n",
    "### FRED IDs with labels:\n",
    "\n",
    "DCOILBRENTEU: European Brent Oil Prices\n",
    "\n",
    "BAMLH0A0HYM2: US high yield index option-adjusted spread\n",
    "\n",
    "GOLDAMGBD228NLBM: Gold fixing price in London Bullion\n",
    "\n",
    "DAAA: Moody's corporate bond yield\n",
    "\n",
    "RIFSPPFAAD01NB: Overnight commercial paper interest rate\n",
    "\n",
    "BAMLHE00EHYIOAS: Euro high yield index option-adjusted spread\n",
    "\n",
    "T10Y3M:10 year treasury bond minus 3 month treasury bond\n",
    "\n",
    "BAMLEMFSFCRPITRIV:Emerging markets corporate bond yields\n",
    "\n",
    "### Other data \n",
    "GDX_Volume: Weekly Volume of the GDX etf, which tracks gold miners\n",
    "\n",
    "SHY_Volume: Weekly Volume of the SHY etf, which is a 1-3 yr treasury bond fund\n",
    "\n",
    "SPY_Volume: Weekly Volume of the SPY etf, representing the S&P500"
   ]
  },
  {
   "cell_type": "code",
   "execution_count": 1,
   "metadata": {},
   "outputs": [
    {
     "name": "stderr",
     "output_type": "stream",
     "text": [
      "C:\\Users\\Vincent\\AppData\\Local\\Programs\\Python\\Python37-32\\lib\\site-packages\\pandas_datareader\\compat\\__init__.py:7: FutureWarning: pandas.util.testing is deprecated. Use the functions in the public API at pandas.testing instead.\n",
      "  from pandas.util.testing import assert_frame_equal\n"
     ]
    }
   ],
   "source": [
    "from Code.Data.Inputs import volClass #imports volClass file which contains Vol_Data\n",
    "#fred IDs to access Fred data\n",
    "fred_s = [\"DCOILBRENTEU\",\"BAMLH0A0HYM2\", \"GOLDAMGBD228NLBM\",\"DAAA\",\"RIFSPPFAAD01NB\",\"BAMLHE00EHYIOAS\", \"T10Y3M\", \"BAMLEMFSFCRPITRIV\"]\n",
    "\n",
    "#create vol_data object\n",
    "# Vol_Data(start_date, end_date = None, fred_strings = None) Notice default for end_date and fred_strings is None\n",
    "trial_vol = volClass.Vol_Data(\"2007-01-01\", fred_strings = fred_s)"
   ]
  },
  {
   "cell_type": "code",
   "execution_count": 2,
   "metadata": {},
   "outputs": [],
   "source": [
    "from Code.Data import rfClass\n",
    "\n",
    "# Regime_Predict(Vol_Data object, test_size = .3, n_estimators= 10) we chose default test data size as .3 and n_estimators for random forest as 10\n",
    "trial_regime_prediction = rfClass.Regime_Predict(trial_vol)"
   ]
  },
  {
   "cell_type": "code",
   "execution_count": 3,
   "metadata": {},
   "outputs": [
    {
     "data": {
      "text/html": [
       "<div>\n",
       "<style scoped>\n",
       "    .dataframe tbody tr th:only-of-type {\n",
       "        vertical-align: middle;\n",
       "    }\n",
       "\n",
       "    .dataframe tbody tr th {\n",
       "        vertical-align: top;\n",
       "    }\n",
       "\n",
       "    .dataframe thead th {\n",
       "        text-align: right;\n",
       "    }\n",
       "</style>\n",
       "<table border=\"1\" class=\"dataframe\">\n",
       "  <thead>\n",
       "    <tr style=\"text-align: right;\">\n",
       "      <th></th>\n",
       "      <th>DCOILBRENTEU</th>\n",
       "      <th>BAMLH0A0HYM2</th>\n",
       "      <th>GOLDAMGBD228NLBM</th>\n",
       "      <th>DAAA</th>\n",
       "      <th>RIFSPPFAAD01NB</th>\n",
       "      <th>BAMLHE00EHYIOAS</th>\n",
       "      <th>T10Y3M</th>\n",
       "      <th>BAMLEMFSFCRPITRIV</th>\n",
       "      <th>SPY_Volume</th>\n",
       "      <th>SHY_Volume</th>\n",
       "      <th>GDX_Volume</th>\n",
       "    </tr>\n",
       "  </thead>\n",
       "  <tbody>\n",
       "    <tr>\n",
       "      <th>DCOILBRENTEU</th>\n",
       "      <td>1.000000</td>\n",
       "      <td>-0.157526</td>\n",
       "      <td>0.270024</td>\n",
       "      <td>0.280281</td>\n",
       "      <td>-0.104712</td>\n",
       "      <td>-0.031744</td>\n",
       "      <td>0.351017</td>\n",
       "      <td>-0.325097</td>\n",
       "      <td>0.131745</td>\n",
       "      <td>-0.244366</td>\n",
       "      <td>-0.513753</td>\n",
       "    </tr>\n",
       "    <tr>\n",
       "      <th>BAMLH0A0HYM2</th>\n",
       "      <td>-0.157526</td>\n",
       "      <td>1.000000</td>\n",
       "      <td>-0.230324</td>\n",
       "      <td>0.368757</td>\n",
       "      <td>-0.284644</td>\n",
       "      <td>0.970498</td>\n",
       "      <td>0.416800</td>\n",
       "      <td>-0.577812</td>\n",
       "      <td>0.710306</td>\n",
       "      <td>-0.001069</td>\n",
       "      <td>-0.257542</td>\n",
       "    </tr>\n",
       "    <tr>\n",
       "      <th>GOLDAMGBD228NLBM</th>\n",
       "      <td>0.270024</td>\n",
       "      <td>-0.230324</td>\n",
       "      <td>1.000000</td>\n",
       "      <td>-0.726908</td>\n",
       "      <td>-0.573349</td>\n",
       "      <td>-0.173005</td>\n",
       "      <td>-0.009627</td>\n",
       "      <td>0.554986</td>\n",
       "      <td>-0.265750</td>\n",
       "      <td>0.218342</td>\n",
       "      <td>0.234129</td>\n",
       "    </tr>\n",
       "    <tr>\n",
       "      <th>DAAA</th>\n",
       "      <td>0.280281</td>\n",
       "      <td>0.368757</td>\n",
       "      <td>-0.726908</td>\n",
       "      <td>1.000000</td>\n",
       "      <td>0.323608</td>\n",
       "      <td>0.399040</td>\n",
       "      <td>0.442271</td>\n",
       "      <td>-0.880172</td>\n",
       "      <td>0.557469</td>\n",
       "      <td>-0.324885</td>\n",
       "      <td>-0.625571</td>\n",
       "    </tr>\n",
       "    <tr>\n",
       "      <th>RIFSPPFAAD01NB</th>\n",
       "      <td>-0.104712</td>\n",
       "      <td>-0.284644</td>\n",
       "      <td>-0.573349</td>\n",
       "      <td>0.323608</td>\n",
       "      <td>1.000000</td>\n",
       "      <td>-0.295646</td>\n",
       "      <td>-0.678382</td>\n",
       "      <td>-0.156874</td>\n",
       "      <td>-0.050575</td>\n",
       "      <td>-0.040096</td>\n",
       "      <td>-0.212671</td>\n",
       "    </tr>\n",
       "    <tr>\n",
       "      <th>BAMLHE00EHYIOAS</th>\n",
       "      <td>-0.031744</td>\n",
       "      <td>0.970498</td>\n",
       "      <td>-0.173005</td>\n",
       "      <td>0.399040</td>\n",
       "      <td>-0.295646</td>\n",
       "      <td>1.000000</td>\n",
       "      <td>0.452112</td>\n",
       "      <td>-0.621888</td>\n",
       "      <td>0.698860</td>\n",
       "      <td>-0.046518</td>\n",
       "      <td>-0.359856</td>\n",
       "    </tr>\n",
       "    <tr>\n",
       "      <th>T10Y3M</th>\n",
       "      <td>0.351017</td>\n",
       "      <td>0.416800</td>\n",
       "      <td>-0.009627</td>\n",
       "      <td>0.442271</td>\n",
       "      <td>-0.678382</td>\n",
       "      <td>0.452112</td>\n",
       "      <td>1.000000</td>\n",
       "      <td>-0.471983</td>\n",
       "      <td>0.402853</td>\n",
       "      <td>-0.236168</td>\n",
       "      <td>-0.263184</td>\n",
       "    </tr>\n",
       "    <tr>\n",
       "      <th>BAMLEMFSFCRPITRIV</th>\n",
       "      <td>-0.325097</td>\n",
       "      <td>-0.577812</td>\n",
       "      <td>0.554986</td>\n",
       "      <td>-0.880172</td>\n",
       "      <td>-0.156874</td>\n",
       "      <td>-0.621888</td>\n",
       "      <td>-0.471983</td>\n",
       "      <td>1.000000</td>\n",
       "      <td>-0.665151</td>\n",
       "      <td>0.360468</td>\n",
       "      <td>0.726498</td>\n",
       "    </tr>\n",
       "    <tr>\n",
       "      <th>SPY_Volume</th>\n",
       "      <td>0.131745</td>\n",
       "      <td>0.710306</td>\n",
       "      <td>-0.265750</td>\n",
       "      <td>0.557469</td>\n",
       "      <td>-0.050575</td>\n",
       "      <td>0.698860</td>\n",
       "      <td>0.402853</td>\n",
       "      <td>-0.665151</td>\n",
       "      <td>1.000000</td>\n",
       "      <td>0.041089</td>\n",
       "      <td>-0.393143</td>\n",
       "    </tr>\n",
       "    <tr>\n",
       "      <th>SHY_Volume</th>\n",
       "      <td>-0.244366</td>\n",
       "      <td>-0.001069</td>\n",
       "      <td>0.218342</td>\n",
       "      <td>-0.324885</td>\n",
       "      <td>-0.040096</td>\n",
       "      <td>-0.046518</td>\n",
       "      <td>-0.236168</td>\n",
       "      <td>0.360468</td>\n",
       "      <td>0.041089</td>\n",
       "      <td>1.000000</td>\n",
       "      <td>0.359793</td>\n",
       "    </tr>\n",
       "    <tr>\n",
       "      <th>GDX_Volume</th>\n",
       "      <td>-0.513753</td>\n",
       "      <td>-0.257542</td>\n",
       "      <td>0.234129</td>\n",
       "      <td>-0.625571</td>\n",
       "      <td>-0.212671</td>\n",
       "      <td>-0.359856</td>\n",
       "      <td>-0.263184</td>\n",
       "      <td>0.726498</td>\n",
       "      <td>-0.393143</td>\n",
       "      <td>0.359793</td>\n",
       "      <td>1.000000</td>\n",
       "    </tr>\n",
       "  </tbody>\n",
       "</table>\n",
       "</div>"
      ],
      "text/plain": [
       "                   DCOILBRENTEU  BAMLH0A0HYM2  GOLDAMGBD228NLBM      DAAA  \\\n",
       "DCOILBRENTEU           1.000000     -0.157526          0.270024  0.280281   \n",
       "BAMLH0A0HYM2          -0.157526      1.000000         -0.230324  0.368757   \n",
       "GOLDAMGBD228NLBM       0.270024     -0.230324          1.000000 -0.726908   \n",
       "DAAA                   0.280281      0.368757         -0.726908  1.000000   \n",
       "RIFSPPFAAD01NB        -0.104712     -0.284644         -0.573349  0.323608   \n",
       "BAMLHE00EHYIOAS       -0.031744      0.970498         -0.173005  0.399040   \n",
       "T10Y3M                 0.351017      0.416800         -0.009627  0.442271   \n",
       "BAMLEMFSFCRPITRIV     -0.325097     -0.577812          0.554986 -0.880172   \n",
       "SPY_Volume             0.131745      0.710306         -0.265750  0.557469   \n",
       "SHY_Volume            -0.244366     -0.001069          0.218342 -0.324885   \n",
       "GDX_Volume            -0.513753     -0.257542          0.234129 -0.625571   \n",
       "\n",
       "                   RIFSPPFAAD01NB  BAMLHE00EHYIOAS    T10Y3M  \\\n",
       "DCOILBRENTEU            -0.104712        -0.031744  0.351017   \n",
       "BAMLH0A0HYM2            -0.284644         0.970498  0.416800   \n",
       "GOLDAMGBD228NLBM        -0.573349        -0.173005 -0.009627   \n",
       "DAAA                     0.323608         0.399040  0.442271   \n",
       "RIFSPPFAAD01NB           1.000000        -0.295646 -0.678382   \n",
       "BAMLHE00EHYIOAS         -0.295646         1.000000  0.452112   \n",
       "T10Y3M                  -0.678382         0.452112  1.000000   \n",
       "BAMLEMFSFCRPITRIV       -0.156874        -0.621888 -0.471983   \n",
       "SPY_Volume              -0.050575         0.698860  0.402853   \n",
       "SHY_Volume              -0.040096        -0.046518 -0.236168   \n",
       "GDX_Volume              -0.212671        -0.359856 -0.263184   \n",
       "\n",
       "                   BAMLEMFSFCRPITRIV  SPY_Volume  SHY_Volume  GDX_Volume  \n",
       "DCOILBRENTEU               -0.325097    0.131745   -0.244366   -0.513753  \n",
       "BAMLH0A0HYM2               -0.577812    0.710306   -0.001069   -0.257542  \n",
       "GOLDAMGBD228NLBM            0.554986   -0.265750    0.218342    0.234129  \n",
       "DAAA                       -0.880172    0.557469   -0.324885   -0.625571  \n",
       "RIFSPPFAAD01NB             -0.156874   -0.050575   -0.040096   -0.212671  \n",
       "BAMLHE00EHYIOAS            -0.621888    0.698860   -0.046518   -0.359856  \n",
       "T10Y3M                     -0.471983    0.402853   -0.236168   -0.263184  \n",
       "BAMLEMFSFCRPITRIV           1.000000   -0.665151    0.360468    0.726498  \n",
       "SPY_Volume                 -0.665151    1.000000    0.041089   -0.393143  \n",
       "SHY_Volume                  0.360468    0.041089    1.000000    0.359793  \n",
       "GDX_Volume                  0.726498   -0.393143    0.359793    1.000000  "
      ]
     },
     "execution_count": 3,
     "metadata": {},
     "output_type": "execute_result"
    }
   ],
   "source": [
    "trial_regime_prediction.corr"
   ]
  },
  {
   "cell_type": "code",
   "execution_count": 4,
   "metadata": {},
   "outputs": [
    {
     "data": {
      "text/html": [
       "<div>\n",
       "<style scoped>\n",
       "    .dataframe tbody tr th:only-of-type {\n",
       "        vertical-align: middle;\n",
       "    }\n",
       "\n",
       "    .dataframe tbody tr th {\n",
       "        vertical-align: top;\n",
       "    }\n",
       "\n",
       "    .dataframe thead th {\n",
       "        text-align: right;\n",
       "    }\n",
       "</style>\n",
       "<table border=\"1\" class=\"dataframe\">\n",
       "  <thead>\n",
       "    <tr style=\"text-align: right;\">\n",
       "      <th></th>\n",
       "      <th>Low_Vol</th>\n",
       "      <th>Med_Vol</th>\n",
       "      <th>High_Vol</th>\n",
       "    </tr>\n",
       "    <tr>\n",
       "      <th>Week</th>\n",
       "      <th></th>\n",
       "      <th></th>\n",
       "      <th></th>\n",
       "    </tr>\n",
       "  </thead>\n",
       "  <tbody>\n",
       "    <tr>\n",
       "      <th>2007-01-08</th>\n",
       "      <td>1.0</td>\n",
       "      <td>0.0</td>\n",
       "      <td>0.0</td>\n",
       "    </tr>\n",
       "    <tr>\n",
       "      <th>2007-01-16</th>\n",
       "      <td>1.0</td>\n",
       "      <td>0.0</td>\n",
       "      <td>0.0</td>\n",
       "    </tr>\n",
       "    <tr>\n",
       "      <th>2007-01-22</th>\n",
       "      <td>1.0</td>\n",
       "      <td>0.0</td>\n",
       "      <td>0.0</td>\n",
       "    </tr>\n",
       "    <tr>\n",
       "      <th>2007-01-29</th>\n",
       "      <td>1.0</td>\n",
       "      <td>0.0</td>\n",
       "      <td>0.0</td>\n",
       "    </tr>\n",
       "    <tr>\n",
       "      <th>2007-02-05</th>\n",
       "      <td>1.0</td>\n",
       "      <td>0.0</td>\n",
       "      <td>0.0</td>\n",
       "    </tr>\n",
       "    <tr>\n",
       "      <th>...</th>\n",
       "      <td>...</td>\n",
       "      <td>...</td>\n",
       "      <td>...</td>\n",
       "    </tr>\n",
       "    <tr>\n",
       "      <th>2020-06-01</th>\n",
       "      <td>0.3</td>\n",
       "      <td>0.0</td>\n",
       "      <td>0.7</td>\n",
       "    </tr>\n",
       "    <tr>\n",
       "      <th>2020-06-08</th>\n",
       "      <td>0.2</td>\n",
       "      <td>0.0</td>\n",
       "      <td>0.8</td>\n",
       "    </tr>\n",
       "    <tr>\n",
       "      <th>2020-06-15</th>\n",
       "      <td>0.0</td>\n",
       "      <td>0.0</td>\n",
       "      <td>1.0</td>\n",
       "    </tr>\n",
       "    <tr>\n",
       "      <th>2020-06-22</th>\n",
       "      <td>0.0</td>\n",
       "      <td>0.0</td>\n",
       "      <td>1.0</td>\n",
       "    </tr>\n",
       "    <tr>\n",
       "      <th>2020-06-29</th>\n",
       "      <td>0.0</td>\n",
       "      <td>0.0</td>\n",
       "      <td>1.0</td>\n",
       "    </tr>\n",
       "  </tbody>\n",
       "</table>\n",
       "<p>704 rows × 3 columns</p>\n",
       "</div>"
      ],
      "text/plain": [
       "            Low_Vol  Med_Vol  High_Vol\n",
       "Week                                  \n",
       "2007-01-08      1.0      0.0       0.0\n",
       "2007-01-16      1.0      0.0       0.0\n",
       "2007-01-22      1.0      0.0       0.0\n",
       "2007-01-29      1.0      0.0       0.0\n",
       "2007-02-05      1.0      0.0       0.0\n",
       "...             ...      ...       ...\n",
       "2020-06-01      0.3      0.0       0.7\n",
       "2020-06-08      0.2      0.0       0.8\n",
       "2020-06-15      0.0      0.0       1.0\n",
       "2020-06-22      0.0      0.0       1.0\n",
       "2020-06-29      0.0      0.0       1.0\n",
       "\n",
       "[704 rows x 3 columns]"
      ]
     },
     "execution_count": 4,
     "metadata": {},
     "output_type": "execute_result"
    }
   ],
   "source": [
    "trial_regime_prediction.all_prob"
   ]
  },
  {
   "cell_type": "code",
   "execution_count": 5,
   "metadata": {},
   "outputs": [
    {
     "data": {
      "text/html": [
       "<div>\n",
       "<style scoped>\n",
       "    .dataframe tbody tr th:only-of-type {\n",
       "        vertical-align: middle;\n",
       "    }\n",
       "\n",
       "    .dataframe tbody tr th {\n",
       "        vertical-align: top;\n",
       "    }\n",
       "\n",
       "    .dataframe thead th {\n",
       "        text-align: right;\n",
       "    }\n",
       "</style>\n",
       "<table border=\"1\" class=\"dataframe\">\n",
       "  <thead>\n",
       "    <tr style=\"text-align: right;\">\n",
       "      <th></th>\n",
       "      <th>Vol_Regime</th>\n",
       "    </tr>\n",
       "    <tr>\n",
       "      <th>Week</th>\n",
       "      <th></th>\n",
       "    </tr>\n",
       "  </thead>\n",
       "  <tbody>\n",
       "    <tr>\n",
       "      <th>2007-01-08</th>\n",
       "      <td>-1</td>\n",
       "    </tr>\n",
       "    <tr>\n",
       "      <th>2007-01-16</th>\n",
       "      <td>-1</td>\n",
       "    </tr>\n",
       "    <tr>\n",
       "      <th>2007-01-22</th>\n",
       "      <td>-1</td>\n",
       "    </tr>\n",
       "    <tr>\n",
       "      <th>2007-01-29</th>\n",
       "      <td>-1</td>\n",
       "    </tr>\n",
       "    <tr>\n",
       "      <th>2007-02-05</th>\n",
       "      <td>-1</td>\n",
       "    </tr>\n",
       "    <tr>\n",
       "      <th>...</th>\n",
       "      <td>...</td>\n",
       "    </tr>\n",
       "    <tr>\n",
       "      <th>2020-06-01</th>\n",
       "      <td>1</td>\n",
       "    </tr>\n",
       "    <tr>\n",
       "      <th>2020-06-08</th>\n",
       "      <td>1</td>\n",
       "    </tr>\n",
       "    <tr>\n",
       "      <th>2020-06-15</th>\n",
       "      <td>1</td>\n",
       "    </tr>\n",
       "    <tr>\n",
       "      <th>2020-06-22</th>\n",
       "      <td>1</td>\n",
       "    </tr>\n",
       "    <tr>\n",
       "      <th>2020-06-29</th>\n",
       "      <td>1</td>\n",
       "    </tr>\n",
       "  </tbody>\n",
       "</table>\n",
       "<p>704 rows × 1 columns</p>\n",
       "</div>"
      ],
      "text/plain": [
       "            Vol_Regime\n",
       "Week                  \n",
       "2007-01-08          -1\n",
       "2007-01-16          -1\n",
       "2007-01-22          -1\n",
       "2007-01-29          -1\n",
       "2007-02-05          -1\n",
       "...                ...\n",
       "2020-06-01           1\n",
       "2020-06-08           1\n",
       "2020-06-15           1\n",
       "2020-06-22           1\n",
       "2020-06-29           1\n",
       "\n",
       "[704 rows x 1 columns]"
      ]
     },
     "execution_count": 5,
     "metadata": {},
     "output_type": "execute_result"
    }
   ],
   "source": [
    "trial_regime_prediction.all_predictions_df"
   ]
  },
  {
   "cell_type": "code",
   "execution_count": 6,
   "metadata": {},
   "outputs": [
    {
     "name": "stdout",
     "output_type": "stream",
     "text": [
      "The accuracy of our model to predict the right category is: \n",
      "0.858%\n"
     ]
    }
   ],
   "source": [
    "trial_regime_prediction.Regime_Accuracy()"
   ]
  },
  {
   "cell_type": "code",
   "execution_count": 7,
   "metadata": {
    "scrolled": true
   },
   "outputs": [
    {
     "data": {
      "image/png": "[encoded data removed]",
      "text/plain": [
       "<Figure size 468x324 with 1 Axes>"
      ]
     },
     "metadata": {
      "needs_background": "light"
     },
     "output_type": "display_data"
    },
    {
     "data": {
      "text/plain": [
       "<Figure size 360x360 with 0 Axes>"
      ]
     },
     "metadata": {},
     "output_type": "display_data"
    },
    {
     "name": "stdout",
     "output_type": "stream",
     "text": [
      "Feature ranking:\n",
      "1. feature 8 (0.249749)\n",
      "2. feature 7 (0.135565)\n",
      "3. feature 1 (0.132941)\n",
      "4. feature 5 (0.106656)\n",
      "5. feature 10 (0.073578)\n",
      "6. feature 3 (0.068724)\n",
      "7. feature 0 (0.066740)\n",
      "8. feature 2 (0.064501)\n",
      "9. feature 9 (0.046793)\n",
      "10. feature 6 (0.033627)\n",
      "11. feature 4 (0.021125)\n"
     ]
    },
    {
     "data": {
      "image/png": "[encoded data removed]",
      "text/plain": [
       "<Figure size 432x288 with 1 Axes>"
      ]
     },
     "metadata": {
      "needs_background": "light"
     },
     "output_type": "display_data"
    }
   ],
   "source": [
    "trial_regime_prediction.plot_feature_importances()\n",
    "\n",
    "trial_regime_prediction.plot_feature_rankings()"
   ]
  },
  {
   "cell_type": "markdown",
   "metadata": {},
   "source": [
    "This graph illustrates which of the factors we used, and the relative significance of them in our actual predictions."
   ]
  },
  {
   "cell_type": "code",
   "execution_count": 8,
   "metadata": {},
   "outputs": [
    {
     "name": "stdout",
     "output_type": "stream",
     "text": [
      "              precision    recall  f1-score   support\n",
      "\n",
      "          -1       0.88      0.96      0.91       135\n",
      "           0       0.80      0.59      0.68        54\n",
      "           1       0.84      0.91      0.87        23\n",
      "\n",
      "    accuracy                           0.86       212\n",
      "   macro avg       0.84      0.82      0.82       212\n",
      "weighted avg       0.85      0.86      0.85       212\n",
      "\n"
     ]
    }
   ],
   "source": [
    "trial_regime_prediction.classification_report()"
   ]
  },
  {
   "cell_type": "markdown",
   "metadata": {},
   "source": [
    "### Classification Report\n",
    "\n",
    "Precision: TP / TP + FP -- Out of all the positive classes we have predicted correctly, how many are positive. \n",
    "\n",
    "Recall: TP / TP + FN -- Out of all positive classes, how much we have predicted correctly. \n",
    "\n",
    "f1-score: Weighted average between precision and recall scores\n",
    "\n",
    "Support: Number of occurences of each label in the true data set. \n",
    "\n",
    "Macro and weighted avg look at the data holistically, and then makes the same calculations - weighted is similar to macro, but accounts for label imbalance, by taking the weighted mean of the metrics for each data label, where macro takes an unweighted mean. \n",
    "\n",
    "\n",
    "### Confusion Matrix\n",
    "This visualizes the classification report, showing which were correctly predicted, as well as the False Positives and False Negatives."
   ]
  },
  {
   "cell_type": "code",
   "execution_count": 9,
   "metadata": {},
   "outputs": [
    {
     "name": "stdout",
     "output_type": "stream",
     "text": [
      "Confusion Matrix: \n"
     ]
    },
    {
     "data": {
      "image/png": "[encoded data removed]",
      "text/plain": [
       "<Figure size 432x288 with 2 Axes>"
      ]
     },
     "metadata": {
      "needs_background": "light"
     },
     "output_type": "display_data"
    }
   ],
   "source": [
    "trial_regime_prediction.confusion_matrix()"
   ]
  },
  {
   "cell_type": "code",
   "execution_count": 10,
   "metadata": {},
   "outputs": [
    {
     "name": "stdout",
     "output_type": "stream",
     "text": [
      "Fitting 3 folds for each of 100 candidates, totalling 300 fits\n"
     ]
    },
    {
     "name": "stderr",
     "output_type": "stream",
     "text": [
      "[Parallel(n_jobs=-1)]: Using backend LokyBackend with 4 concurrent workers.\n",
      "[Parallel(n_jobs=-1)]: Done  33 tasks      | elapsed:   53.1s\n",
      "[Parallel(n_jobs=-1)]: Done 154 tasks      | elapsed:  3.5min\n",
      "[Parallel(n_jobs=-1)]: Done 300 out of 300 | elapsed:  7.0min finished\n"
     ]
    },
    {
     "name": "stdout",
     "output_type": "stream",
     "text": [
      "{'n_estimators': 200, 'max_features': 'sqrt', 'max_depth': None}\n"
     ]
    }
   ],
   "source": [
    "trial_regime_prediction.best_params()"
   ]
  },
  {
   "cell_type": "code",
   "execution_count": 11,
   "metadata": {},
   "outputs": [],
   "source": [
    "optimal_regime_pred = rfClass.Regime_Predict(trial_vol, n_estimators = 200, max_features = 'sqrt', max_depth = None)"
   ]
  },
  {
   "cell_type": "code",
   "execution_count": 12,
   "metadata": {},
   "outputs": [
    {
     "data": {
      "image/png": "[encoded data removed]",
      "text/plain": [
       "<Figure size 468x324 with 1 Axes>"
      ]
     },
     "metadata": {
      "needs_background": "light"
     },
     "output_type": "display_data"
    },
    {
     "data": {
      "text/plain": [
       "<Figure size 360x360 with 0 Axes>"
      ]
     },
     "metadata": {},
     "output_type": "display_data"
    },
    {
     "name": "stdout",
     "output_type": "stream",
     "text": [
      "Feature ranking:\n",
      "1. feature 8 (0.218956)\n",
      "2. feature 1 (0.164762)\n",
      "3. feature 7 (0.125776)\n",
      "4. feature 5 (0.113370)\n",
      "5. feature 3 (0.078046)\n",
      "6. feature 2 (0.065040)\n",
      "7. feature 10 (0.056865)\n",
      "8. feature 0 (0.050056)\n",
      "9. feature 6 (0.049680)\n",
      "10. feature 9 (0.038810)\n",
      "11. feature 4 (0.038637)\n"
     ]
    },
    {
     "data": {
      "image/png": "[encoded data removed]",
      "text/plain": [
       "<Figure size 432x288 with 1 Axes>"
      ]
     },
     "metadata": {
      "needs_background": "light"
     },
     "output_type": "display_data"
    }
   ],
   "source": [
    "optimal_regime_pred.plot_feature_importances()\n",
    "optimal_regime_pred.plot_feature_rankings()"
   ]
  },
  {
   "cell_type": "code",
   "execution_count": 13,
   "metadata": {},
   "outputs": [
    {
     "name": "stdout",
     "output_type": "stream",
     "text": [
      "              precision    recall  f1-score   support\n",
      "\n",
      "          -1       0.90      0.93      0.92       137\n",
      "           0       0.73      0.67      0.70        48\n",
      "           1       0.88      0.85      0.87        27\n",
      "\n",
      "    accuracy                           0.86       212\n",
      "   macro avg       0.84      0.82      0.83       212\n",
      "weighted avg       0.86      0.86      0.86       212\n",
      "\n"
     ]
    }
   ],
   "source": [
    "optimal_regime_pred.classification_report()"
   ]
  },
  {
   "cell_type": "code",
   "execution_count": 14,
   "metadata": {},
   "outputs": [
    {
     "name": "stdout",
     "output_type": "stream",
     "text": [
      "Confusion Matrix: \n"
     ]
    },
    {
     "data": {
      "image/png": "[encoded data removed]",
      "text/plain": [
       "<Figure size 432x288 with 2 Axes>"
      ]
     },
     "metadata": {
      "needs_background": "light"
     },
     "output_type": "display_data"
    }
   ],
   "source": [
    "optimal_regime_pred.confusion_matrix()"
   ]
  },
  {
   "cell_type": "code",
   "execution_count": 16,
   "metadata": {},
   "outputs": [
    {
     "name": "stdout",
     "output_type": "stream",
     "text": [
      "The accuracy of our model to predict the right category is: \n",
      "0.863%\n"
     ]
    }
   ],
   "source": [
    "optimal_regime_pred.Regime_Accuracy()"
   ]
  },
  {
   "cell_type": "code",
   "execution_count": null,
   "metadata": {},
   "outputs": [],
   "source": []
  }
 ],
 "metadata": {
  "kernelspec": {
   "display_name": "Python 3",
   "language": "python",
   "name": "python3"
  },
  "language_info": {
   "codemirror_mode": {
    "name": "ipython",
    "version": 3
   },
   "file_extension": ".py",
   "mimetype": "text/x-python",
   "name": "python",
   "nbconvert_exporter": "python",
   "pygments_lexer": "ipython3",
   "version": "3.7.4"
  }
 },
 "nbformat": 4,
 "nbformat_minor": 2
}
