{
 "cells": [
  {
   "cell_type": "markdown",
   "metadata": {},
   "source": [
    "# Volatility Regime Prediction Checkpoint\n",
    "\n",
    "## Overview\n",
    "For the first part of our project, we have created a volatility regime prediction algorithm. To create this algorithm, we used a FRED API to gather data directly from the FRED website as well as using pandas_datareader to gather VIX and stock data. Ultimately, our goal was to create an algorithm that can predict next week's volatility regime using this week's data. Since we are looking to build a volatility regime classifier, we used a random forest machine learning method through Python's sklearn package. The data creation and preparation is done using the class we created call Vol_Data which is stored in the volClass.py file.\n",
    "\n",
    "## Pinnacle Summer Project Folder Directory Information:\n",
    "### Code folder\n",
    "     - Contains Data folder that we use to create and manipulate our data. randomForestTest.py in there\n",
    "         - Data folder contains inputs folder which holds our volClass.py file that creates the class Vol_Data\n",
    "\n",
    "## Vol_Data class example"
   ]
  },
  {
   "cell_type": "code",
   "execution_count": 2,
   "metadata": {},
   "outputs": [],
   "source": [
    "from Code.Data.Inputs import volClass #imports volClass file which contains Vol_Data\n",
    "\n",
    "#fred IDs to access Fred data\n",
    "fred_s = [\"DCOILBRENTEU\",\"BAMLH0A0HYM2\", \"GOLDAMGBD228NLBM\",\"DAAA\",\"RIFSPPFAAD01NB\",\"BAMLHE00EHYIOAS\"]\n",
    "\n"
   ]
  }
 ],
 "metadata": {
  "kernelspec": {
   "display_name": "Python 3",
   "language": "python",
   "name": "python3"
  },
  "language_info": {
   "codemirror_mode": {
    "name": "ipython",
    "version": 3
   },
   "file_extension": ".py",
   "mimetype": "text/x-python",
   "name": "python",
   "nbconvert_exporter": "python",
   "pygments_lexer": "ipython3",
   "version": "3.7.4"
  }
 },
 "nbformat": 4,
 "nbformat_minor": 2
}
